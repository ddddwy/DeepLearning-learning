{
 "cells": [
  {
   "cell_type": "code",
   "execution_count": null,
   "metadata": {
    "collapsed": true
   },
   "outputs": [],
   "source": [
    "# the EarlyStopping and ModelCheckpoint callbacks\n",
    "# EarlyStopping: allow you to interrupt training as soon as you start overfitting\n",
    "# ModelCheckpoint: allow you to continually save the model during training, or save only the current best model\n",
    "import keras\n",
    "\n",
    "callbacks_list=[\n",
    "    keras.callbacks.EarlyStopping(monitor='acc', patience=1,),\n",
    "    keras.callbacks.ModelCheckpoint(filepath='my_model.h5', monitor='val_loss', save_best_only=True, )\n",
    "]\n",
    "\n",
    "model.compile(optimizer='rmsprop', loss='binary_crossentropy', metrics=['acc'])\n",
    "\n",
    "model.fit(x, y, epochs=10, batch_size=32, callbacks=callbacks_list, validation_data=(x_val, y_val))"
   ]
  },
  {
   "cell_type": "code",
   "execution_count": null,
   "metadata": {
    "collapsed": true
   },
   "outputs": [],
   "source": [
    "# the ReduceLROnPlateau callback\n",
    "# reduce the learning rate when the validation loss has stopped improving\n",
    "\n",
    "callbacks_list=[\n",
    "    keras.callbacks.ReduceLROnPlateau(monitor='val_loss', factor=0.1, patience=10, )\n",
    "]\n",
    "\n",
    "model.fit(x, y, epochs=10, batch_size=32, callbacks=callbacks_list, validation_data=(x_val,y_val))"
   ]
  },
  {
   "cell_type": "code",
   "execution_count": null,
   "metadata": {
    "collapsed": true
   },
   "outputs": [],
   "source": [
    "# Write a custom callback\n",
    "# self.model: the model instance from which the callback is being called\n",
    "# self.validation_data: the value of what was passed to fit as validation data\n",
    "\n",
    "import keras\n",
    "import numpy as np\n",
    "\n",
    "class ActivationLogger(keras.callbacks.Callback):\n",
    "    \n",
    "    def set_model(self, model):\n",
    "        # this method is called by the parent model before training, to inform the callback of what model will be calling it\n",
    "        self.model=model\n",
    "        layer_outputs=[layer.output for layer in model.layers]\n",
    "        # this is a model instance that returns the activations of every layer\n",
    "        self.activations_model=keras.models.Model(model.input, layer_outputs)\n",
    "        \n",
    "    def on_epoch_end(self, epoch, logs=None):\n",
    "        if self.validation_data is None:\n",
    "            raise RuntimeError('Requires validation_data.')\n",
    "        # obtain first input sample of the validation data\n",
    "        validation_sample=self.validation_data[0][0:1]\n",
    "        activations=self.activations_model.predict(validation_sample)\n",
    "        # save arrays to disk\n",
    "        f=open('activations_at_epoch_'+str(epoch)+'.npz','w')\n",
    "        np.savez(f,activations)\n",
    "        f.close()"
   ]
  },
  {
   "cell_type": "code",
   "execution_count": 12,
   "metadata": {},
   "outputs": [
    {
     "name": "stdout",
     "output_type": "stream",
     "text": [
      "_________________________________________________________________\n",
      "Layer (type)                 Output Shape              Param #   \n",
      "=================================================================\n",
      "embed (Embedding)            (None, 500, 128)          256000    \n",
      "_________________________________________________________________\n",
      "conv1d_23 (Conv1D)           (None, 494, 32)           28704     \n",
      "_________________________________________________________________\n",
      "max_pooling1d_12 (MaxPooling (None, 98, 32)            0         \n",
      "_________________________________________________________________\n",
      "conv1d_24 (Conv1D)           (None, 92, 32)            7200      \n",
      "_________________________________________________________________\n",
      "global_max_pooling1d_12 (Glo (None, 32)                0         \n",
      "_________________________________________________________________\n",
      "dense_12 (Dense)             (None, 1)                 33        \n",
      "=================================================================\n",
      "Total params: 291,937\n",
      "Trainable params: 291,937\n",
      "Non-trainable params: 0\n",
      "_________________________________________________________________\n",
      "Train on 20000 samples, validate on 5000 samples\n",
      "Epoch 1/20\n",
      "20000/20000 [==============================] - 129s 6ms/step - loss: 0.6355 - acc: 0.6538 - val_loss: 0.4330 - val_acc: 0.8330\n",
      "Epoch 2/20\n",
      "20000/20000 [==============================] - 127s 6ms/step - loss: 0.4577 - acc: 0.8077 - val_loss: 0.4233 - val_acc: 0.8284\n",
      "Epoch 3/20\n",
      "20000/20000 [==============================] - 134s 7ms/step - loss: 0.3752 - acc: 0.8043 - val_loss: 1.1046 - val_acc: 0.5720\n",
      "Epoch 4/20\n",
      "20000/20000 [==============================] - 133s 7ms/step - loss: 0.3481 - acc: 0.7626 - val_loss: 0.6306 - val_acc: 0.7166\n",
      "Epoch 5/20\n",
      "20000/20000 [==============================] - 130s 6ms/step - loss: 0.3062 - acc: 0.7128 - val_loss: 0.4965 - val_acc: 0.7348\n",
      "Epoch 6/20\n",
      "20000/20000 [==============================] - 132s 7ms/step - loss: 0.2540 - acc: 0.7150 - val_loss: 0.9092 - val_acc: 0.5568\n",
      "Epoch 7/20\n",
      "20000/20000 [==============================] - 139s 7ms/step - loss: 0.2137 - acc: 0.6298 - val_loss: 0.7074 - val_acc: 0.5360\n",
      "Epoch 8/20\n",
      "20000/20000 [==============================] - 141s 7ms/step - loss: 0.1764 - acc: 0.5736 - val_loss: 0.7862 - val_acc: 0.5064\n",
      "Epoch 9/20\n",
      "20000/20000 [==============================] - 135s 7ms/step - loss: 0.1660 - acc: 0.5328 - val_loss: 0.8265 - val_acc: 0.4614\n",
      "Epoch 10/20\n",
      "20000/20000 [==============================] - 137s 7ms/step - loss: 0.1243 - acc: 0.4778 - val_loss: 0.8755 - val_acc: 0.4174\n",
      "Epoch 11/20\n",
      "20000/20000 [==============================] - 137s 7ms/step - loss: 0.1090 - acc: 0.4094 - val_loss: 1.4457 - val_acc: 0.3206\n",
      "Epoch 12/20\n",
      "20000/20000 [==============================] - 147s 7ms/step - loss: 0.1027 - acc: 0.3420 - val_loss: 1.2442 - val_acc: 0.3152\n",
      "Epoch 13/20\n",
      "20000/20000 [==============================] - 132s 7ms/step - loss: 0.1003 - acc: 0.2868 - val_loss: 1.1492 - val_acc: 0.2830\n",
      "Epoch 14/20\n",
      "20000/20000 [==============================] - 136s 7ms/step - loss: 0.0947 - acc: 0.2471 - val_loss: 1.1323 - val_acc: 0.2910\n",
      "Epoch 15/20\n",
      "20000/20000 [==============================] - 132s 7ms/step - loss: 0.0954 - acc: 0.2195 - val_loss: 1.1677 - val_acc: 0.2524\n",
      "Epoch 16/20\n",
      "20000/20000 [==============================] - 133s 7ms/step - loss: 0.0913 - acc: 0.1897 - val_loss: 1.1405 - val_acc: 0.2558\n",
      "Epoch 17/20\n",
      "20000/20000 [==============================] - 132s 7ms/step - loss: 0.0897 - acc: 0.1832 - val_loss: 1.1676 - val_acc: 0.2502\n",
      "Epoch 18/20\n",
      "20000/20000 [==============================] - 132s 7ms/step - loss: 0.0867 - acc: 0.1651 - val_loss: 1.2045 - val_acc: 0.2322\n",
      "Epoch 19/20\n",
      "20000/20000 [==============================] - 134s 7ms/step - loss: 0.0947 - acc: 0.1549 - val_loss: 1.2039 - val_acc: 0.2308\n",
      "Epoch 20/20\n",
      "20000/20000 [==============================] - 131s 7ms/step - loss: 0.0920 - acc: 0.1323 - val_loss: 1.2237 - val_acc: 0.2096\n"
     ]
    }
   ],
   "source": [
    "# Tensorboard Callback\n",
    "import keras\n",
    "from keras import layers\n",
    "from keras.datasets import imdb\n",
    "from keras.preprocessing import sequence\n",
    "\n",
    "max_features=2000\n",
    "max_len=500\n",
    "\n",
    "(x_train,y_train),(x_test,y_test)=imdb.load_data(num_words=max_features)\n",
    "x_train=sequence.pad_sequences(x_train,maxlen=max_len)\n",
    "x_test=sequence.pad_sequences(x_test,maxlen=max_len)\n",
    "\n",
    "model=keras.models.Sequential()\n",
    "model.add(layers.Embedding(max_features, 128, input_length=max_len, name='embed'))\n",
    "model.add(layers.Conv1D(32, 7, activation='relu'))\n",
    "model.add(layers.MaxPooling1D(5))\n",
    "model.add(layers.Conv1D(32, 7, activation='relu'))\n",
    "model.add(layers.GlobalMaxPooling1D())\n",
    "model.add(layers.Dense(1))\n",
    "model.summary()\n",
    "model.compile(optimizer='rmsprop',loss='binary_crossentropy',metrics=['acc'])\n",
    "\n",
    "callbacks=[\n",
    "    keras.callbacks.TensorBoard(log_dir='C:/Users/think/Desktop/keras/my_log_dir',\n",
    "                                histogram_freq=1,embeddings_freq=1,)\n",
    "]\n",
    "\n",
    "history=model.fit(x_train,y_train,epochs=20,batch_size=128,validation_split=0.2,callbacks=callbacks)"
   ]
  }
 ],
 "metadata": {
  "kernelspec": {
   "display_name": "Python 3",
   "language": "python",
   "name": "python3"
  },
  "language_info": {
   "codemirror_mode": {
    "name": "ipython",
    "version": 3
   },
   "file_extension": ".py",
   "mimetype": "text/x-python",
   "name": "python",
   "nbconvert_exporter": "python",
   "pygments_lexer": "ipython3",
   "version": "3.6.3"
  }
 },
 "nbformat": 4,
 "nbformat_minor": 2
}
