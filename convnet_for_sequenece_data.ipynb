{
 "cells": [
  {
   "cell_type": "code",
   "execution_count": 1,
   "metadata": {},
   "outputs": [
    {
     "name": "stderr",
     "output_type": "stream",
     "text": [
      "D:\\anaconda3\\lib\\site-packages\\h5py\\__init__.py:34: FutureWarning: Conversion of the second argument of issubdtype from `float` to `np.floating` is deprecated. In future, it will be treated as `np.float64 == np.dtype(float).type`.\n",
      "  from ._conv import register_converters as _register_converters\n",
      "Using TensorFlow backend.\n"
     ]
    },
    {
     "name": "stdout",
     "output_type": "stream",
     "text": [
      "Loading data...\n",
      "25000 train sequences\n",
      "25000 test sequences\n",
      "Pad sequences (samples x time)\n",
      "x_train shape: (25000, 500)\n",
      "x_test shape: (25000, 500)\n"
     ]
    }
   ],
   "source": [
    "# prepare the IMDB data\n",
    "from keras.datasets import imdb\n",
    "from keras.preprocessing import sequence\n",
    "\n",
    "max_features = 10000 # number of words to consider as features\n",
    "max_len = 500 # cut texts after this number of words (among top max_features most common words)\n",
    "print('Loading data...')\n",
    "\n",
    "(x_train, y_train), (x_test, y_test) = imdb.load_data(num_words=max_features)\n",
    "print(len(x_train), 'train sequences')\n",
    "print(len(x_test), 'test sequences')\n",
    "\n",
    "print('Pad sequences (samples x time)')\n",
    "x_train = sequence.pad_sequences(x_train, maxlen=max_len)\n",
    "x_test = sequence.pad_sequences(x_test, maxlen=max_len)\n",
    "print('x_train shape:', x_train.shape)\n",
    "print('x_test shape:', x_test.shape)"
   ]
  },
  {
   "cell_type": "code",
   "execution_count": 3,
   "metadata": {},
   "outputs": [
    {
     "name": "stdout",
     "output_type": "stream",
     "text": [
      "_________________________________________________________________\n",
      "Layer (type)                 Output Shape              Param #   \n",
      "=================================================================\n",
      "embedding_2 (Embedding)      (None, 500, 128)          1280000   \n",
      "_________________________________________________________________\n",
      "conv1d_3 (Conv1D)            (None, 494, 32)           28704     \n",
      "_________________________________________________________________\n",
      "max_pooling1d_2 (MaxPooling1 (None, 98, 32)            0         \n",
      "_________________________________________________________________\n",
      "conv1d_4 (Conv1D)            (None, 92, 32)            7200      \n",
      "_________________________________________________________________\n",
      "global_max_pooling1d_2 (Glob (None, 32)                0         \n",
      "_________________________________________________________________\n",
      "dense_1 (Dense)              (None, 1)                 33        \n",
      "=================================================================\n",
      "Total params: 1,315,937\n",
      "Trainable params: 1,315,937\n",
      "Non-trainable params: 0\n",
      "_________________________________________________________________\n",
      "Train on 20000 samples, validate on 5000 samples\n",
      "Epoch 1/10\n",
      "20000/20000 [==============================] - 105s 5ms/step - loss: 0.7287 - acc: 0.5202 - val_loss: 0.6855 - val_acc: 0.5680\n",
      "Epoch 2/10\n",
      "20000/20000 [==============================] - 104s 5ms/step - loss: 0.6673 - acc: 0.6670 - val_loss: 0.6705 - val_acc: 0.6226\n",
      "Epoch 3/10\n",
      "20000/20000 [==============================] - 101s 5ms/step - loss: 0.6325 - acc: 0.7501 - val_loss: 0.6357 - val_acc: 0.6784\n",
      "Epoch 4/10\n",
      "20000/20000 [==============================] - 100s 5ms/step - loss: 0.5665 - acc: 0.7976 - val_loss: 0.5446 - val_acc: 0.7826\n",
      "Epoch 5/10\n",
      "20000/20000 [==============================] - 102s 5ms/step - loss: 0.4550 - acc: 0.8339 - val_loss: 0.4472 - val_acc: 0.8200\n",
      "Epoch 6/10\n",
      "20000/20000 [==============================] - 104s 5ms/step - loss: 0.3674 - acc: 0.8578 - val_loss: 0.4356 - val_acc: 0.8374\n",
      "Epoch 7/10\n",
      "20000/20000 [==============================] - 109s 5ms/step - loss: 0.3159 - acc: 0.8748 - val_loss: 0.4251 - val_acc: 0.8470\n",
      "Epoch 8/10\n",
      "20000/20000 [==============================] - 105s 5ms/step - loss: 0.2793 - acc: 0.8701 - val_loss: 0.4396 - val_acc: 0.8268\n",
      "Epoch 9/10\n",
      "20000/20000 [==============================] - 105s 5ms/step - loss: 0.2489 - acc: 0.8588 - val_loss: 0.4234 - val_acc: 0.8128\n",
      "Epoch 10/10\n",
      "20000/20000 [==============================] - 106s 5ms/step - loss: 0.2273 - acc: 0.8377 - val_loss: 0.4385 - val_acc: 0.7860\n"
     ]
    }
   ],
   "source": [
    "# train and evaluate a simple 1D convnet\n",
    "from keras.models import Sequential\n",
    "from keras import layers\n",
    "from keras.optimizers import RMSprop\n",
    "\n",
    "model=Sequential()\n",
    "model.add(layers.Embedding(max_features, 128, input_length=max_len))\n",
    "model.add(layers.Conv1D(32, 7, activation='relu'))\n",
    "model.add(layers.MaxPooling1D(5))\n",
    "model.add(layers.Conv1D(32, 7, activation='relu'))\n",
    "model.add(layers.GlobalMaxPooling1D())\n",
    "model.add(layers.Dense(1))\n",
    "\n",
    "model.summary()\n",
    "\n",
    "model.compile(optimizer=RMSprop(lr=1e-4), loss='binary_crossentropy', metrics=['acc'])\n",
    "history=model.fit(x_train,y_train,epochs=10,batch_size=128,validation_split=0.2)"
   ]
  },
  {
   "cell_type": "code",
   "execution_count": 4,
   "metadata": {},
   "outputs": [
    {
     "data": {
      "image/png": "[encoded data removed]",
      "text/plain": [
       "<matplotlib.figure.Figure at 0x15ef76ca198>"
      ]
     },
     "metadata": {},
     "output_type": "display_data"
    }
   ],
   "source": [
    "import matplotlib.pyplot as plt\n",
    "\n",
    "acc=history.history['acc']\n",
    "val_acc=history.history['val_acc']\n",
    "epochs=range(1,len(acc)+1)\n",
    "\n",
    "plt.plot(epochs,acc,label='Training acc')\n",
    "plt.plot(epochs,val_acc,label='Validation acc')\n",
    "plt.title('Training and Validation acc')\n",
    "plt.legend()\n",
    "plt.show()"
   ]
  },
  {
   "cell_type": "code",
   "execution_count": 5,
   "metadata": {
    "collapsed": true
   },
   "outputs": [],
   "source": [
    "# Build a CNN-RNN model for the Jena dataset\n",
    "# prepare the data\n",
    "import os\n",
    "import numpy as np\n",
    "\n",
    "data_dir='/Users/think/Downloads/jena_climate'\n",
    "fname=os.path.join(data_dir, 'jena_climate_2009_2016.csv')\n",
    "\n",
    "f=open(fname,encoding='utf8')\n",
    "data=f.read()\n",
    "f.close()\n",
    "\n",
    "lines=data.split('\\n')\n",
    "header=lines[0].split(',')\n",
    "lines=lines[1:]\n",
    "\n",
    "float_data=np.zeros((len(lines),len(header)-1))\n",
    "for i,line in enumerate(lines):\n",
    "    values=[float(x) for x in line.split(',')[1:]]\n",
    "    float_data[i,:]=values\n",
    "    \n",
    "mean=float_data[:200000].mean(axis=0)\n",
    "float_data -= mean\n",
    "std=float_data[:200000].std(axis=0)\n",
    "float_data /= std\n",
    "\n",
    "# create a generator yielding timeseries and targets\n",
    "def generator(data, lookback, delay, min_index, max_index, shuffle=False, batch_size=128, step=6):\n",
    "    if max_index is None:\n",
    "        max_index=len(data)-delay-1\n",
    "    i=min_index+lookback\n",
    "    while 1:\n",
    "        if shuffle:\n",
    "            # 随机生成一个数组，最小值为min_index+lookback，最大值为max_index，长度为batch_size\n",
    "            rows=np.random.randint(min_index+lookback, max_index, size=batch_size)\n",
    "        else:\n",
    "            if i+batch_size>=max_index:\n",
    "                i=min_index+lookback\n",
    "            rows=np.arange(i,min(i+batch_size, max_index))\n",
    "            i += len(rows)\n",
    "        \n",
    "        samples=np.zeros((len(rows), lookback//step, data.shape[-1]))\n",
    "        targets=np.zeros((len(rows),))\n",
    "        for j, row in enumerate(rows):\n",
    "            indices=range(rows[j]-lookback, rows[j], step)\n",
    "            samples[j]=data[indices]\n",
    "            targets[j]=data[rows[j]+delay][1]\n",
    "        yield samples, targets\n",
    "\n",
    "lookback=720\n",
    "step=3\n",
    "delay=144\n",
    "batch_size=128\n",
    "\n",
    "train_gen=generator(float_data, lookback=lookback, delay=delay, min_index=0, max_index=200000, shuffle=True, step=step, batch_size=batch_size)\n",
    "val_gen=generator(float_data, lookback=lookback, delay=delay, min_index=200001, max_index=300000, step=step, batch_size=batch_size)\n",
    "test_gen=generator(float_data, lookback=lookback, delay=delay, min_index=300001, max_index=None, step=step, batch_size=batch_size)\n",
    "\n",
    "val_steps=(300000-200001-lookback)//batch_size\n",
    "test_steps=(len(float_data)-300001-lookback)//batch_size"
   ]
  },
  {
   "cell_type": "code",
   "execution_count": 9,
   "metadata": {},
   "outputs": [
    {
     "name": "stdout",
     "output_type": "stream",
     "text": [
      "_________________________________________________________________\n",
      "Layer (type)                 Output Shape              Param #   \n",
      "=================================================================\n",
      "conv1d_9 (Conv1D)            (None, None, 32)          2272      \n",
      "_________________________________________________________________\n",
      "max_pooling1d_5 (MaxPooling1 (None, None, 32)          0         \n",
      "_________________________________________________________________\n",
      "conv1d_10 (Conv1D)           (None, None, 32)          5152      \n",
      "_________________________________________________________________\n",
      "gru_3 (GRU)                  (None, 32)                6240      \n",
      "_________________________________________________________________\n",
      "dense_4 (Dense)              (None, 1)                 33        \n",
      "=================================================================\n",
      "Total params: 13,697\n",
      "Trainable params: 13,697\n",
      "Non-trainable params: 0\n",
      "_________________________________________________________________\n",
      "Epoch 1/20\n",
      "500/500 [==============================] - 81s 163ms/step - loss: 0.3375 - val_loss: 0.3166\n",
      "Epoch 2/20\n",
      "500/500 [==============================] - 79s 158ms/step - loss: 0.3035 - val_loss: 0.2825\n",
      "Epoch 3/20\n",
      "500/500 [==============================] - 79s 158ms/step - loss: 0.2916 - val_loss: 0.2819\n",
      "Epoch 4/20\n",
      "500/500 [==============================] - 80s 160ms/step - loss: 0.2801 - val_loss: 0.2833\n",
      "Epoch 5/20\n",
      "500/500 [==============================] - 83s 166ms/step - loss: 0.2732 - val_loss: 0.2853\n",
      "Epoch 6/20\n",
      "500/500 [==============================] - 89s 177ms/step - loss: 0.2673 - val_loss: 0.2882\n",
      "Epoch 7/20\n",
      "500/500 [==============================] - 84s 169ms/step - loss: 0.2616 - val_loss: 0.2906\n",
      "Epoch 8/20\n",
      "500/500 [==============================] - 85s 170ms/step - loss: 0.2561 - val_loss: 0.3018\n",
      "Epoch 9/20\n",
      "500/500 [==============================] - 83s 165ms/step - loss: 0.2524 - val_loss: 0.2961\n",
      "Epoch 10/20\n",
      "500/500 [==============================] - 79s 157ms/step - loss: 0.2497 - val_loss: 0.2969\n",
      "Epoch 11/20\n",
      "500/500 [==============================] - 78s 157ms/step - loss: 0.2443 - val_loss: 0.2951\n",
      "Epoch 12/20\n",
      "500/500 [==============================] - 78s 156ms/step - loss: 0.2424 - val_loss: 0.3011\n",
      "Epoch 13/20\n",
      "500/500 [==============================] - 80s 159ms/step - loss: 0.2393 - val_loss: 0.3098\n",
      "Epoch 14/20\n",
      "500/500 [==============================] - 81s 161ms/step - loss: 0.2362 - val_loss: 0.3029\n",
      "Epoch 15/20\n",
      "500/500 [==============================] - 78s 157ms/step - loss: 0.2344 - val_loss: 0.3020\n",
      "Epoch 16/20\n",
      "500/500 [==============================] - 80s 159ms/step - loss: 0.2324 - val_loss: 0.3107\n",
      "Epoch 17/20\n",
      "500/500 [==============================] - 79s 158ms/step - loss: 0.2294 - val_loss: 0.3005\n",
      "Epoch 18/20\n",
      "500/500 [==============================] - 83s 167ms/step - loss: 0.2275 - val_loss: 0.3091\n",
      "Epoch 19/20\n",
      "500/500 [==============================] - 87s 173ms/step - loss: 0.2247 - val_loss: 0.3062\n",
      "Epoch 20/20\n",
      "500/500 [==============================] - 85s 171ms/step - loss: 0.2231 - val_loss: 0.3068\n"
     ]
    }
   ],
   "source": [
    "from keras.models import Sequential\n",
    "from keras import layers\n",
    "from keras.optimizers import RMSprop\n",
    "\n",
    "model=Sequential()\n",
    "model.add(layers.Conv1D(32, 5, activation='relu', input_shape=(None, float_data.shape[-1])))\n",
    "model.add(layers.MaxPooling1D(3))\n",
    "model.add(layers.Conv1D(32, 5, activation='relu'))\n",
    "model.add(layers.GRU(32, dropout=0.1, recurrent_dropout=0.5))\n",
    "model.add(layers.Dense(1))\n",
    "\n",
    "model.summary()\n",
    "\n",
    "model.compile(optimizer=RMSprop(), loss='mae')\n",
    "history=model.fit_generator(train_gen, steps_per_epoch=500, epochs=20, validation_data=val_gen, validation_steps=val_steps)"
   ]
  },
  {
   "cell_type": "code",
   "execution_count": 12,
   "metadata": {},
   "outputs": [
    {
     "data": {
      "image/png": "[encoded data removed]",
      "text/plain": [
       "<matplotlib.figure.Figure at 0x15ea2728d68>"
      ]
     },
     "metadata": {},
     "output_type": "display_data"
    }
   ],
   "source": [
    "loss=history.history['loss']\n",
    "val_loss=history.history['val_loss']\n",
    "epochs=range(1,len(loss)+1)\n",
    "\n",
    "plt.plot(epochs,loss,label='Training loss')\n",
    "plt.plot(epochs,val_loss,label='Validation val_loss')\n",
    "plt.title('Training and Validation loss')\n",
    "plt.legend()\n",
    "plt.show()"
   ]
  }
 ],
 "metadata": {
  "kernelspec": {
   "display_name": "Python 3",
   "language": "python",
   "name": "python3"
  },
  "language_info": {
   "codemirror_mode": {
    "name": "ipython",
    "version": 3
   },
   "file_extension": ".py",
   "mimetype": "text/x-python",
   "name": "python",
   "nbconvert_exporter": "python",
   "pygments_lexer": "ipython3",
   "version": "3.6.3"
  }
 },
 "nbformat": 4,
 "nbformat_minor": 2
}
