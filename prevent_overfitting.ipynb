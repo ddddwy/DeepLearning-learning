{
 "cells": [
  {
   "cell_type": "code",
   "execution_count": 1,
   "metadata": {},
   "outputs": [
    {
     "name": "stderr",
     "output_type": "stream",
     "text": [
      "D:\\anaconda3\\lib\\site-packages\\h5py\\__init__.py:34: FutureWarning: Conversion of the second argument of issubdtype from `float` to `np.floating` is deprecated. In future, it will be treated as `np.float64 == np.dtype(float).type`.\n",
      "  from ._conv import register_converters as _register_converters\n",
      "Using TensorFlow backend.\n"
     ]
    }
   ],
   "source": [
    "from keras.datasets import imdb\n",
    "\n",
    "(train_data,train_labels),(test_data,test_labels)=imdb.load_data(num_words=10000)"
   ]
  },
  {
   "cell_type": "code",
   "execution_count": 2,
   "metadata": {
    "collapsed": true
   },
   "outputs": [],
   "source": [
    "# one-hot-encode\n",
    "import numpy as np\n",
    "\n",
    "def vectorize_sequences(sequences,dimension=10000):\n",
    "    # create an all-zero matrix of shape (len(sequences), dimension)\n",
    "    results=np.zeros((len(sequences),dimension))\n",
    "    for i, sequence in enumerate(sequences):\n",
    "        results[i,sequence]=1.\n",
    "    return results\n",
    "\n",
    "x_train=vectorize_sequences(train_data)\n",
    "x_test=vectorize_sequences(test_data)\n",
    "\n",
    "y_train=np.asarray(train_labels).astype('float32')\n",
    "y_test=np.asarray(test_labels).astype('float32')"
   ]
  },
  {
   "cell_type": "code",
   "execution_count": 3,
   "metadata": {
    "collapsed": true
   },
   "outputs": [
    {
     "name": "stdout",
     "output_type": "stream",
     "text": [
      "Train on 15000 samples, validate on 10000 samples\n",
      "Epoch 1/20\n",
      "15000/15000 [==============================] - 3s 207us/step - loss: 0.4976 - acc: 0.7953 - val_loss: 0.3717 - val_acc: 0.8722\n",
      "Epoch 2/20\n",
      "15000/15000 [==============================] - 2s 160us/step - loss: 0.2957 - acc: 0.9046 - val_loss: 0.2990 - val_acc: 0.8910\n",
      "Epoch 3/20\n",
      "15000/15000 [==============================] - 2s 162us/step - loss: 0.2160 - acc: 0.9286 - val_loss: 0.3088 - val_acc: 0.8713\n",
      "Epoch 4/20\n",
      "15000/15000 [==============================] - 2s 159us/step - loss: 0.1742 - acc: 0.9433 - val_loss: 0.2830 - val_acc: 0.8839\n",
      "Epoch 5/20\n",
      "15000/15000 [==============================] - 2s 159us/step - loss: 0.1414 - acc: 0.9543 - val_loss: 0.2863 - val_acc: 0.8851\n",
      "Epoch 6/20\n",
      "15000/15000 [==============================] - 2s 156us/step - loss: 0.1143 - acc: 0.9653 - val_loss: 0.3086 - val_acc: 0.8811\n",
      "Epoch 7/20\n",
      "15000/15000 [==============================] - 2s 165us/step - loss: 0.0970 - acc: 0.9709 - val_loss: 0.3147 - val_acc: 0.8842\n",
      "Epoch 8/20\n",
      "15000/15000 [==============================] - 2s 163us/step - loss: 0.0803 - acc: 0.9764 - val_loss: 0.3869 - val_acc: 0.8659\n",
      "Epoch 9/20\n",
      "15000/15000 [==============================] - 3s 172us/step - loss: 0.0658 - acc: 0.9820 - val_loss: 0.3649 - val_acc: 0.8777\n",
      "Epoch 10/20\n",
      "15000/15000 [==============================] - 2s 164us/step - loss: 0.0553 - acc: 0.9850 - val_loss: 0.3864 - val_acc: 0.8790\n",
      "Epoch 11/20\n",
      "15000/15000 [==============================] - 2s 163us/step - loss: 0.0454 - acc: 0.9885 - val_loss: 0.4181 - val_acc: 0.8764\n",
      "Epoch 12/20\n",
      "15000/15000 [==============================] - 2s 165us/step - loss: 0.0386 - acc: 0.9913 - val_loss: 0.4521 - val_acc: 0.8699\n",
      "Epoch 13/20\n",
      "15000/15000 [==============================] - 2s 164us/step - loss: 0.0297 - acc: 0.9939 - val_loss: 0.4716 - val_acc: 0.8735\n",
      "Epoch 14/20\n",
      "15000/15000 [==============================] - 2s 163us/step - loss: 0.0243 - acc: 0.9949 - val_loss: 0.5026 - val_acc: 0.8719\n",
      "Epoch 15/20\n",
      "15000/15000 [==============================] - 2s 162us/step - loss: 0.0185 - acc: 0.9973 - val_loss: 0.5318 - val_acc: 0.8694\n",
      "Epoch 16/20\n",
      "15000/15000 [==============================] - 2s 161us/step - loss: 0.0154 - acc: 0.9983 - val_loss: 0.5685 - val_acc: 0.8691\n",
      "Epoch 17/20\n",
      "15000/15000 [==============================] - 3s 170us/step - loss: 0.0159 - acc: 0.9971 - val_loss: 0.6022 - val_acc: 0.8687\n",
      "Epoch 18/20\n",
      "15000/15000 [==============================] - 2s 166us/step - loss: 0.0078 - acc: 0.9996 - val_loss: 0.6790 - val_acc: 0.8635\n",
      "Epoch 19/20\n",
      "15000/15000 [==============================] - 2s 160us/step - loss: 0.0112 - acc: 0.9976 - val_loss: 0.6673 - val_acc: 0.8665\n",
      "Epoch 20/20\n",
      "15000/15000 [==============================] - 2s 166us/step - loss: 0.0043 - acc: 0.9998 - val_loss: 0.6972 - val_acc: 0.8649\n"
     ]
    }
   ],
   "source": [
    "# Fight overfitting\n",
    "# Reduce the netwok's size\n",
    "from keras import models\n",
    "from keras import layers\n",
    "\n",
    "# original network\n",
    "model=models.Sequential()\n",
    "model.add(layers.Dense(16,activation='relu',input_shape=(10000,)))\n",
    "model.add(layers.Dense(16,activation='relu'))\n",
    "model.add(layers.Dense(1,activation='sigmoid'))\n",
    "model.compile('rmsprop','binary_crossentropy',['accuracy'])\n",
    "\n",
    "x_val=x_train[:10000]\n",
    "partial_x_train=x_train[10000:]\n",
    "y_val=y_train[:10000]\n",
    "partial_y_train=y_train[10000:]\n",
    "\n",
    "history=model.fit(partial_x_train,partial_y_train,validation_data=(x_val,y_val),epochs=20,batch_size=512)\n",
    "val_loss=history.history['val_loss']"
   ]
  },
  {
   "cell_type": "code",
   "execution_count": 4,
   "metadata": {
    "collapsed": true
   },
   "outputs": [
    {
     "name": "stdout",
     "output_type": "stream",
     "text": [
      "Train on 15000 samples, validate on 10000 samples\n",
      "Epoch 1/20\n",
      "15000/15000 [==============================] - 3s 168us/step - loss: 0.6050 - acc: 0.7685 - val_loss: 0.5338 - val_acc: 0.8324\n",
      "Epoch 2/20\n",
      "15000/15000 [==============================] - 2s 149us/step - loss: 0.4635 - acc: 0.8736 - val_loss: 0.4312 - val_acc: 0.8628\n",
      "Epoch 3/20\n",
      "15000/15000 [==============================] - 2s 151us/step - loss: 0.3712 - acc: 0.8937 - val_loss: 0.3685 - val_acc: 0.8749\n",
      "Epoch 4/20\n",
      "15000/15000 [==============================] - 2s 149us/step - loss: 0.3052 - acc: 0.9095 - val_loss: 0.3337 - val_acc: 0.8755\n",
      "Epoch 5/20\n",
      "15000/15000 [==============================] - 2s 150us/step - loss: 0.2585 - acc: 0.9204 - val_loss: 0.3015 - val_acc: 0.8869\n",
      "Epoch 6/20\n",
      "15000/15000 [==============================] - 2s 150us/step - loss: 0.2233 - acc: 0.9293 - val_loss: 0.2844 - val_acc: 0.8913\n",
      "Epoch 7/20\n",
      "15000/15000 [==============================] - 2s 152us/step - loss: 0.1961 - acc: 0.9375 - val_loss: 0.2792 - val_acc: 0.8907\n",
      "Epoch 8/20\n",
      "15000/15000 [==============================] - 2s 153us/step - loss: 0.1745 - acc: 0.9453 - val_loss: 0.2718 - val_acc: 0.8904\n",
      "Epoch 9/20\n",
      "15000/15000 [==============================] - 2s 156us/step - loss: 0.1556 - acc: 0.9527 - val_loss: 0.2713 - val_acc: 0.8904\n",
      "Epoch 10/20\n",
      "15000/15000 [==============================] - 2s 152us/step - loss: 0.1396 - acc: 0.9563 - val_loss: 0.2771 - val_acc: 0.8886\n",
      "Epoch 11/20\n",
      "15000/15000 [==============================] - 2s 153us/step - loss: 0.1258 - acc: 0.9617 - val_loss: 0.2788 - val_acc: 0.8908\n",
      "Epoch 12/20\n",
      "15000/15000 [==============================] - 2s 150us/step - loss: 0.1127 - acc: 0.9669 - val_loss: 0.2909 - val_acc: 0.8846\n",
      "Epoch 13/20\n",
      "15000/15000 [==============================] - 2s 155us/step - loss: 0.1022 - acc: 0.9714 - val_loss: 0.2925 - val_acc: 0.8880\n",
      "Epoch 14/20\n",
      "15000/15000 [==============================] - 2s 148us/step - loss: 0.0921 - acc: 0.9748 - val_loss: 0.3018 - val_acc: 0.8860\n",
      "Epoch 15/20\n",
      "15000/15000 [==============================] - 2s 160us/step - loss: 0.0828 - acc: 0.9769 - val_loss: 0.3144 - val_acc: 0.8857\n",
      "Epoch 16/20\n",
      "15000/15000 [==============================] - 2s 158us/step - loss: 0.0745 - acc: 0.9805 - val_loss: 0.3339 - val_acc: 0.8807\n",
      "Epoch 17/20\n",
      "15000/15000 [==============================] - 2s 151us/step - loss: 0.0668 - acc: 0.9831 - val_loss: 0.3378 - val_acc: 0.8845\n",
      "Epoch 18/20\n",
      "15000/15000 [==============================] - 2s 159us/step - loss: 0.0600 - acc: 0.9851 - val_loss: 0.3567 - val_acc: 0.8791\n",
      "Epoch 19/20\n",
      "15000/15000 [==============================] - 2s 152us/step - loss: 0.0535 - acc: 0.9878 - val_loss: 0.3687 - val_acc: 0.8827\n",
      "Epoch 20/20\n",
      "15000/15000 [==============================] - 2s 150us/step - loss: 0.0474 - acc: 0.9893 - val_loss: 0.3834 - val_acc: 0.8799\n"
     ]
    }
   ],
   "source": [
    "# model with lower capacity\n",
    "model=models.Sequential()\n",
    "model.add(layers.Dense(4,activation='relu',input_shape=(10000,)))\n",
    "model.add(layers.Dense(4,activation='relu'))\n",
    "model.add(layers.Dense(1,activation='sigmoid'))\n",
    "model.compile('rmsprop','binary_crossentropy',['accuracy'])\n",
    "history2=model.fit(partial_x_train,partial_y_train,validation_data=(x_val,y_val),epochs=20,batch_size=512)\n",
    "val_loss2=history2.history['val_loss']"
   ]
  },
  {
   "cell_type": "code",
   "execution_count": 5,
   "metadata": {},
   "outputs": [
    {
     "data": {
      "image/png": "[encoded data removed]",
      "text/plain": [
       "<matplotlib.figure.Figure at 0x2324271b1d0>"
      ]
     },
     "metadata": {},
     "output_type": "display_data"
    }
   ],
   "source": [
    "# A comparision of validation loss\n",
    "import matplotlib.pyplot as plt\n",
    "\n",
    "epochs=range(1,len(val_loss)+1)\n",
    "plt.plot(epochs,val_loss,'b+',label='Original model')\n",
    "plt.plot(epochs,val_loss2,'bo',label='Smaller model')\n",
    "plt.xlabel('Epochs')\n",
    "plt.ylabel('Validation Loss')\n",
    "plt.legend()\n",
    "plt.show()"
   ]
  },
  {
   "cell_type": "code",
   "execution_count": 9,
   "metadata": {
    "collapsed": true
   },
   "outputs": [
    {
     "name": "stdout",
     "output_type": "stream",
     "text": [
      "Train on 15000 samples, validate on 10000 samples\n",
      "Epoch 1/20\n",
      "15000/15000 [==============================] - 3s 220us/step - loss: 0.5787 - acc: 0.7810 - val_loss: 0.4477 - val_acc: 0.8680\n",
      "Epoch 2/20\n",
      "15000/15000 [==============================] - 2s 161us/step - loss: 0.3718 - acc: 0.8948 - val_loss: 0.3641 - val_acc: 0.8815\n",
      "Epoch 3/20\n",
      "15000/15000 [==============================] - 2s 163us/step - loss: 0.2963 - acc: 0.9179 - val_loss: 0.3332 - val_acc: 0.8903\n",
      "Epoch 4/20\n",
      "15000/15000 [==============================] - 3s 168us/step - loss: 0.2569 - acc: 0.9307 - val_loss: 0.3486 - val_acc: 0.8783\n",
      "Epoch 5/20\n",
      "15000/15000 [==============================] - 2s 161us/step - loss: 0.2364 - acc: 0.9381 - val_loss: 0.3295 - val_acc: 0.8872\n",
      "Epoch 6/20\n",
      "15000/15000 [==============================] - 2s 160us/step - loss: 0.2151 - acc: 0.9471 - val_loss: 0.3335 - val_acc: 0.8849\n",
      "Epoch 7/20\n",
      "15000/15000 [==============================] - 3s 167us/step - loss: 0.2060 - acc: 0.9501 - val_loss: 0.3412 - val_acc: 0.8849\n",
      "Epoch 8/20\n",
      "15000/15000 [==============================] - 2s 159us/step - loss: 0.1951 - acc: 0.9555 - val_loss: 0.3731 - val_acc: 0.8793\n",
      "Epoch 9/20\n",
      "15000/15000 [==============================] - 2s 159us/step - loss: 0.1875 - acc: 0.9595 - val_loss: 0.3783 - val_acc: 0.8725\n",
      "Epoch 10/20\n",
      "15000/15000 [==============================] - 2s 160us/step - loss: 0.1822 - acc: 0.9598 - val_loss: 0.3640 - val_acc: 0.8817\n",
      "Epoch 11/20\n",
      "15000/15000 [==============================] - 2s 165us/step - loss: 0.1771 - acc: 0.9611 - val_loss: 0.4047 - val_acc: 0.8743\n",
      "Epoch 12/20\n",
      "15000/15000 [==============================] - 2s 160us/step - loss: 0.1687 - acc: 0.9670 - val_loss: 0.3830 - val_acc: 0.8760\n",
      "Epoch 13/20\n",
      "15000/15000 [==============================] - 2s 163us/step - loss: 0.1656 - acc: 0.9655 - val_loss: 0.3878 - val_acc: 0.8768\n",
      "Epoch 14/20\n",
      "15000/15000 [==============================] - 2s 163us/step - loss: 0.1631 - acc: 0.9669 - val_loss: 0.4069 - val_acc: 0.8717\n",
      "Epoch 15/20\n",
      "15000/15000 [==============================] - 2s 160us/step - loss: 0.1585 - acc: 0.9707 - val_loss: 0.4248 - val_acc: 0.8656\n",
      "Epoch 16/20\n",
      "15000/15000 [==============================] - 2s 160us/step - loss: 0.1523 - acc: 0.9729 - val_loss: 0.4083 - val_acc: 0.8758\n",
      "Epoch 17/20\n",
      "15000/15000 [==============================] - 2s 160us/step - loss: 0.1553 - acc: 0.9695 - val_loss: 0.4168 - val_acc: 0.8755\n",
      "Epoch 18/20\n",
      "15000/15000 [==============================] - 2s 162us/step - loss: 0.1500 - acc: 0.9729 - val_loss: 0.4593 - val_acc: 0.8667\n",
      "Epoch 19/20\n",
      "15000/15000 [==============================] - 2s 162us/step - loss: 0.1406 - acc: 0.9784 - val_loss: 0.4291 - val_acc: 0.8720\n",
      "Epoch 20/20\n",
      "15000/15000 [==============================] - 2s 161us/step - loss: 0.1432 - acc: 0.9757 - val_loss: 0.4716 - val_acc: 0.8588\n"
     ]
    }
   ],
   "source": [
    "# Fight overfitting\n",
    "# Add regularization\n",
    "from keras import regularizers\n",
    "\n",
    "# L1 regularization\n",
    "# regularizers.l1(0.001)\n",
    "# L1 and L2 regularization at the same time\n",
    "# regularizers.l1_l2(l1=0.001,l2=0.001)\n",
    "\n",
    "model=models.Sequential()\n",
    "# l2(0.001) means that every coefficient in the weight matrix of the layer \n",
    "# will add 0.001* weight_coefficient_value to the toal loss of the network\n",
    "model.add(layers.Dense(16,kernel_regularizer=regularizers.l2(0.001),activation='relu',input_shape=(10000,)))\n",
    "model.add(layers.Dense(16,kernel_regularizer=regularizers.l2(0.001),activation='relu'))\n",
    "model.add(layers.Dense(1,activation='sigmoid'))\n",
    "model.compile('rmsprop','binary_crossentropy',['accuracy'])\n",
    "history3=model.fit(partial_x_train,partial_y_train,validation_data=(x_val,y_val),epochs=20,batch_size=512)\n",
    "val_loss3=history3.history['val_loss']"
   ]
  },
  {
   "cell_type": "code",
   "execution_count": 10,
   "metadata": {},
   "outputs": [
    {
     "data": {
      "image/png": "[encoded data removed]",
      "text/plain": [
       "<matplotlib.figure.Figure at 0x23249326b00>"
      ]
     },
     "metadata": {},
     "output_type": "display_data"
    }
   ],
   "source": [
    "plt.clf()\n",
    "plt.plot(epochs,val_loss,'b+',label='Original model')\n",
    "plt.plot(epochs,val_loss3,'bo',label='L2-regularized model')\n",
    "plt.xlabel('Epochs')\n",
    "plt.ylabel('Validation Loss')\n",
    "plt.legend()\n",
    "plt.show()"
   ]
  },
  {
   "cell_type": "code",
   "execution_count": 12,
   "metadata": {
    "collapsed": true
   },
   "outputs": [
    {
     "name": "stdout",
     "output_type": "stream",
     "text": [
      "Train on 15000 samples, validate on 10000 samples\n",
      "Epoch 1/20\n",
      "15000/15000 [==============================] - 4s 252us/step - loss: 0.5942 - acc: 0.6813 - val_loss: 0.4898 - val_acc: 0.7862\n",
      "Epoch 2/20\n",
      "15000/15000 [==============================] - 3s 188us/step - loss: 0.4528 - acc: 0.8043 - val_loss: 0.3564 - val_acc: 0.8747\n",
      "Epoch 3/20\n",
      "15000/15000 [==============================] - 2s 161us/step - loss: 0.3626 - acc: 0.8585 - val_loss: 0.2992 - val_acc: 0.8861\n",
      "Epoch 4/20\n",
      "15000/15000 [==============================] - 3s 173us/step - loss: 0.3041 - acc: 0.8871 - val_loss: 0.2903 - val_acc: 0.8831\n",
      "Epoch 5/20\n",
      "15000/15000 [==============================] - 3s 177us/step - loss: 0.2609 - acc: 0.9070 - val_loss: 0.2988 - val_acc: 0.8790\n",
      "Epoch 6/20\n",
      "15000/15000 [==============================] - 3s 213us/step - loss: 0.2271 - acc: 0.9237 - val_loss: 0.2731 - val_acc: 0.8901\n",
      "Epoch 7/20\n",
      "15000/15000 [==============================] - 3s 218us/step - loss: 0.1993 - acc: 0.9345 - val_loss: 0.2831 - val_acc: 0.8890\n",
      "Epoch 8/20\n",
      "15000/15000 [==============================] - 3s 217us/step - loss: 0.1710 - acc: 0.9444 - val_loss: 0.3068 - val_acc: 0.8834\n",
      "Epoch 9/20\n",
      "15000/15000 [==============================] - 3s 221us/step - loss: 0.1535 - acc: 0.9511 - val_loss: 0.3261 - val_acc: 0.8878\n",
      "Epoch 10/20\n",
      "15000/15000 [==============================] - 3s 170us/step - loss: 0.1354 - acc: 0.9571 - val_loss: 0.3529 - val_acc: 0.8896\n",
      "Epoch 11/20\n",
      "15000/15000 [==============================] - 2s 150us/step - loss: 0.1271 - acc: 0.9594 - val_loss: 0.3628 - val_acc: 0.8823\n",
      "Epoch 12/20\n",
      "15000/15000 [==============================] - 2s 163us/step - loss: 0.1114 - acc: 0.9627 - val_loss: 0.4054 - val_acc: 0.8851\n",
      "Epoch 13/20\n",
      "15000/15000 [==============================] - 3s 176us/step - loss: 0.1011 - acc: 0.9662 - val_loss: 0.4145 - val_acc: 0.8875\n",
      "Epoch 14/20\n",
      "15000/15000 [==============================] - 3s 173us/step - loss: 0.0922 - acc: 0.9716 - val_loss: 0.4295 - val_acc: 0.8860\n",
      "Epoch 15/20\n",
      "15000/15000 [==============================] - 3s 178us/step - loss: 0.0884 - acc: 0.9704 - val_loss: 0.4702 - val_acc: 0.8802\n",
      "Epoch 16/20\n",
      "15000/15000 [==============================] - 2s 162us/step - loss: 0.0782 - acc: 0.9743 - val_loss: 0.4959 - val_acc: 0.8853\n",
      "Epoch 17/20\n",
      "15000/15000 [==============================] - 2s 149us/step - loss: 0.0746 - acc: 0.9750 - val_loss: 0.5242 - val_acc: 0.8805\n",
      "Epoch 18/20\n",
      "15000/15000 [==============================] - 2s 149us/step - loss: 0.0753 - acc: 0.9759 - val_loss: 0.5329 - val_acc: 0.8829\n",
      "Epoch 19/20\n",
      "15000/15000 [==============================] - 2s 157us/step - loss: 0.0691 - acc: 0.9767 - val_loss: 0.5381 - val_acc: 0.8839\n",
      "Epoch 20/20\n",
      "15000/15000 [==============================] - 2s 149us/step - loss: 0.0628 - acc: 0.9798 - val_loss: 0.5587 - val_acc: 0.8828\n"
     ]
    }
   ],
   "source": [
    "# Fight overfitting\n",
    "# Add dropout\n",
    "\n",
    "model=models.Sequential()\n",
    "model.add(layers.Dense(16,activation='relu',input_shape=(10000,)))\n",
    "model.add(layers.Dropout(0.5))\n",
    "model.add(layers.Dense(16,activation='relu'))\n",
    "model.add(layers.Dropout(0.5))\n",
    "model.add(layers.Dense(1,activation='sigmoid'))\n",
    "model.compile('rmsprop','binary_crossentropy',['accuracy'])\n",
    "history4=model.fit(partial_x_train,partial_y_train,validation_data=(x_val,y_val),epochs=20,batch_size=512)\n",
    "val_loss4=history4.history['val_loss']"
   ]
  },
  {
   "cell_type": "code",
   "execution_count": 13,
   "metadata": {},
   "outputs": [
    {
     "data": {
      "image/png": "[encoded data removed]",
      "text/plain": [
       "<matplotlib.figure.Figure at 0x23249c03748>"
      ]
     },
     "metadata": {},
     "output_type": "display_data"
    }
   ],
   "source": [
    "plt.clf()\n",
    "plt.plot(epochs,val_loss,'b+',label='Original model')\n",
    "plt.plot(epochs,val_loss4,'bo',label='Dropout-regularized model')\n",
    "plt.xlabel('Epochs')\n",
    "plt.ylabel('Validation Loss')\n",
    "plt.legend()\n",
    "plt.show()"
   ]
  }
 ],
 "metadata": {
  "kernelspec": {
   "display_name": "Python 3",
   "language": "python",
   "name": "python3"
  },
  "language_info": {
   "codemirror_mode": {
    "name": "ipython",
    "version": 3
   },
   "file_extension": ".py",
   "mimetype": "text/x-python",
   "name": "python",
   "nbconvert_exporter": "python",
   "pygments_lexer": "ipython3",
   "version": "3.6.3"
  }
 },
 "nbformat": 4,
 "nbformat_minor": 2
}
