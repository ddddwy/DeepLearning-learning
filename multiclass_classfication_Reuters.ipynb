{
 "cells": [
  {
   "cell_type": "code",
   "execution_count": 1,
   "metadata": {},
   "outputs": [
    {
     "name": "stderr",
     "output_type": "stream",
     "text": [
      "D:\\anaconda3\\lib\\site-packages\\h5py\\__init__.py:34: FutureWarning: Conversion of the second argument of issubdtype from `float` to `np.floating` is deprecated. In future, it will be treated as `np.float64 == np.dtype(float).type`.\n",
      "  from ._conv import register_converters as _register_converters\n",
      "Using TensorFlow backend.\n"
     ]
    },
    {
     "name": "stdout",
     "output_type": "stream",
     "text": [
      "Downloading data from https://s3.amazonaws.com/text-datasets/reuters.npz\n",
      "2113536/2110848 [==============================] - 9s 4us/step\n"
     ]
    }
   ],
   "source": [
    "from keras.datasets import reuters\n",
    "(train_data,train_labels),(test_data,test_labels)=reuters.load_data(num_words=10000)"
   ]
  },
  {
   "cell_type": "code",
   "execution_count": 5,
   "metadata": {},
   "outputs": [
    {
     "name": "stdout",
     "output_type": "stream",
     "text": [
      "? ? ? said as a result of its december acquisition of space co it expects earnings per share in 1987 of 1 15 to 1 30 dlrs per share up from 70 cts in 1986 the company said pretax net should rise to nine to 10 mln dlrs from six mln dlrs in 1986 and rental operation revenues to 19 to 22 mln dlrs from 12 5 mln dlrs it said cash flow per share this year should be 2 50 to three dlrs reuter 3\n"
     ]
    }
   ],
   "source": [
    "train_data[0]\n",
    "train_labels[0] # a topic index\n",
    "\n",
    "# decode a newswires back to text\n",
    "word_index=reuters.get_word_index()\n",
    "reversed_word_index=dict([(value,key) for (key,value) in word_index.items()])\n",
    "decoded_newswire=' '.join([reversed_word_index.get(i-3,'?') for i in train_data[0]])\n",
    "print(decoded_newswire)"
   ]
  },
  {
   "cell_type": "code",
   "execution_count": 6,
   "metadata": {
    "collapsed": true
   },
   "outputs": [],
   "source": [
    "# encode the data\n",
    "import numpy as np\n",
    "\n",
    "def vectorize_sequences(sequences,dimension=10000):\n",
    "    results=np.zeros((len(sequences),dimension))\n",
    "    for i, sequence in enumerate(sequences):\n",
    "        results[i,sequence]=1\n",
    "    return results\n",
    "\n",
    "x_train=vectorize_sequences(train_data)\n",
    "x_test=vectorize_sequences(test_data)\n",
    "\n",
    "# one-hot encode the labels\n",
    "from keras.utils.np_utils import to_categorical\n",
    "\n",
    "one_hot_train_labels=to_categorical(train_labels)\n",
    "one_hot_test_labels=to_categorical(test_labels)"
   ]
  },
  {
   "cell_type": "code",
   "execution_count": 7,
   "metadata": {},
   "outputs": [
    {
     "name": "stdout",
     "output_type": "stream",
     "text": [
      "Train on 7982 samples, validate on 1000 samples\n",
      "Epoch 1/20\n",
      "7982/7982 [==============================] - 2s 241us/step - loss: 2.5322 - acc: 0.4955 - val_loss: 1.7208 - val_acc: 0.6120\n",
      "Epoch 2/20\n",
      "7982/7982 [==============================] - 2s 205us/step - loss: 1.4452 - acc: 0.6879 - val_loss: 1.3459 - val_acc: 0.7060\n",
      "Epoch 3/20\n",
      "7982/7982 [==============================] - 2s 212us/step - loss: 1.0953 - acc: 0.7651 - val_loss: 1.1708 - val_acc: 0.7430\n",
      "Epoch 4/20\n",
      "7982/7982 [==============================] - 1s 182us/step - loss: 0.8697 - acc: 0.8165 - val_loss: 1.0793 - val_acc: 0.7590\n",
      "Epoch 5/20\n",
      "7982/7982 [==============================] - 1s 188us/step - loss: 0.7034 - acc: 0.8472 - val_loss: 0.9844 - val_acc: 0.7810\n",
      "Epoch 6/20\n",
      "7982/7982 [==============================] - 1s 188us/step - loss: 0.5667 - acc: 0.8802 - val_loss: 0.9411 - val_acc: 0.8040\n",
      "Epoch 7/20\n",
      "7982/7982 [==============================] - 2s 198us/step - loss: 0.4581 - acc: 0.9048 - val_loss: 0.9083 - val_acc: 0.8020\n",
      "Epoch 8/20\n",
      "7982/7982 [==============================] - 2s 197us/step - loss: 0.3695 - acc: 0.9231 - val_loss: 0.9363 - val_acc: 0.7890\n",
      "Epoch 9/20\n",
      "7982/7982 [==============================] - 1s 182us/step - loss: 0.3032 - acc: 0.9315 - val_loss: 0.8917 - val_acc: 0.8090\n",
      "Epoch 10/20\n",
      "7982/7982 [==============================] - 2s 193us/step - loss: 0.2537 - acc: 0.9414 - val_loss: 0.9071 - val_acc: 0.8110\n",
      "Epoch 11/20\n",
      "7982/7982 [==============================] - 1s 182us/step - loss: 0.2187 - acc: 0.9471 - val_loss: 0.9177 - val_acc: 0.8130\n",
      "Epoch 12/20\n",
      "7982/7982 [==============================] - 1s 183us/step - loss: 0.1873 - acc: 0.9508 - val_loss: 0.9027 - val_acc: 0.8130\n",
      "Epoch 13/20\n",
      "7982/7982 [==============================] - 1s 188us/step - loss: 0.1703 - acc: 0.9521 - val_loss: 0.9323 - val_acc: 0.8110\n",
      "Epoch 14/20\n",
      "7982/7982 [==============================] - 1s 187us/step - loss: 0.1536 - acc: 0.9554 - val_loss: 0.9689 - val_acc: 0.8050\n",
      "Epoch 15/20\n",
      "7982/7982 [==============================] - 2s 192us/step - loss: 0.1390 - acc: 0.9560 - val_loss: 0.9686 - val_acc: 0.8150\n",
      "Epoch 16/20\n",
      "7982/7982 [==============================] - 2s 201us/step - loss: 0.1313 - acc: 0.9560 - val_loss: 1.0220 - val_acc: 0.8060\n",
      "Epoch 17/20\n",
      "7982/7982 [==============================] - 2s 198us/step - loss: 0.1217 - acc: 0.9579 - val_loss: 1.0254 - val_acc: 0.7970\n",
      "Epoch 18/20\n",
      "7982/7982 [==============================] - 2s 205us/step - loss: 0.1198 - acc: 0.9582 - val_loss: 1.0430 - val_acc: 0.8060\n",
      "Epoch 19/20\n",
      "7982/7982 [==============================] - 2s 191us/step - loss: 0.1138 - acc: 0.9597 - val_loss: 1.0955 - val_acc: 0.7970\n",
      "Epoch 20/20\n",
      "7982/7982 [==============================] - 2s 201us/step - loss: 0.1111 - acc: 0.9593 - val_loss: 1.0674 - val_acc: 0.8020\n"
     ]
    },
    {
     "data": {
      "text/plain": [
       "<keras.callbacks.History at 0x1afa49cfac8>"
      ]
     },
     "execution_count": 7,
     "metadata": {},
     "output_type": "execute_result"
    }
   ],
   "source": [
    "# build model\n",
    "from keras import models\n",
    "from keras import layers\n",
    "from keras import metrics\n",
    "\n",
    "model=models.Sequential()\n",
    "model.add(layers.Dense(64,activation='relu',input_shape=(10000,)))\n",
    "model.add(layers.Dense(64,activation='relu'))\n",
    "model.add(layers.Dense(46,activation='softmax'))\n",
    "model.compile('rmsprop','categorical_crossentropy',['accuracy'])\n",
    "\n",
    "x_val=x_train[:1000]\n",
    "partial_x_train=x_train[1000:]\n",
    "y_val=one_hot_train_labels[:1000]\n",
    "partial_y_train=one_hot_train_labels[1000:]\n",
    "\n",
    "history=model.fit(partial_x_train,partial_y_train,epochs=20,batch_size=512,validation_data=(x_val,y_val))"
   ]
  },
  {
   "cell_type": "code",
   "execution_count": 9,
   "metadata": {},
   "outputs": [
    {
     "data": {
      "image/png": "[encoded data removed]",
      "text/plain": [
       "<matplotlib.figure.Figure at 0x1afa6991fd0>"
      ]
     },
     "metadata": {},
     "output_type": "display_data"
    }
   ],
   "source": [
    "# plot the training and validation loss\n",
    "import matplotlib.pyplot as plt\n",
    "\n",
    "loss=history.history['loss']\n",
    "val_loss=history.history['val_loss']\n",
    "epochs=range(1,len(loss)+1)\n",
    "\n",
    "plt.plot(epochs,loss,'bo',label='Training loss')\n",
    "plt.plot(epochs,val_loss,'b',label='Validation loss')\n",
    "plt.title('Training and Validation loss')\n",
    "plt.xlabel('Epochs')\n",
    "plt.ylabel('Loss')\n",
    "plt.legend()\n",
    "plt.show()"
   ]
  },
  {
   "cell_type": "code",
   "execution_count": 10,
   "metadata": {},
   "outputs": [
    {
     "data": {
      "image/png": "[encoded data removed]",
      "text/plain": [
       "<matplotlib.figure.Figure at 0x1afa41780f0>"
      ]
     },
     "metadata": {},
     "output_type": "display_data"
    }
   ],
   "source": [
    "# plot training and validation accuracy\n",
    "plt.clf() # clean figure\n",
    "\n",
    "acc=history.history['acc']\n",
    "val_acc=history.history['val_acc']\n",
    "\n",
    "plt.plot(epochs,acc,'bo',label='Training accuracy')\n",
    "plt.plot(epochs,val_acc,'b',label='Validation accuracy')\n",
    "plt.title('Training and Validation accuracy')\n",
    "plt.xlabel('Epochs')\n",
    "plt.ylabel('Accuracy')\n",
    "plt.legend()\n",
    "plt.show()"
   ]
  },
  {
   "cell_type": "code",
   "execution_count": 11,
   "metadata": {},
   "outputs": [
    {
     "name": "stdout",
     "output_type": "stream",
     "text": [
      "Train on 7982 samples, validate on 1000 samples\n",
      "Epoch 1/9\n",
      "7982/7982 [==============================] - 2s 221us/step - loss: 2.5398 - acc: 0.5226 - val_loss: 1.6733 - val_acc: 0.6570\n",
      "Epoch 2/9\n",
      "7982/7982 [==============================] - 2s 215us/step - loss: 1.3712 - acc: 0.7121 - val_loss: 1.2758 - val_acc: 0.7210\n",
      "Epoch 3/9\n",
      "7982/7982 [==============================] - 2s 192us/step - loss: 1.0136 - acc: 0.7781 - val_loss: 1.1303 - val_acc: 0.7530\n",
      "Epoch 4/9\n",
      "7982/7982 [==============================] - 2s 192us/step - loss: 0.7976 - acc: 0.8251 - val_loss: 1.0539 - val_acc: 0.7590\n",
      "Epoch 5/9\n",
      "7982/7982 [==============================] - 2s 201us/step - loss: 0.6393 - acc: 0.8624 - val_loss: 0.9754 - val_acc: 0.7920\n",
      "Epoch 6/9\n",
      "7982/7982 [==============================] - 2s 191us/step - loss: 0.5124 - acc: 0.8923 - val_loss: 0.9102 - val_acc: 0.8140\n",
      "Epoch 7/9\n",
      "7982/7982 [==============================] - 2s 190us/step - loss: 0.4123 - acc: 0.9137 - val_loss: 0.8932 - val_acc: 0.8210\n",
      "Epoch 8/9\n",
      "7982/7982 [==============================] - 2s 202us/step - loss: 0.3354 - acc: 0.9288 - val_loss: 0.8732 - val_acc: 0.8260\n",
      "Epoch 9/9\n",
      "7982/7982 [==============================] - 2s 202us/step - loss: 0.2782 - acc: 0.9371 - val_loss: 0.9337 - val_acc: 0.8010\n",
      "2246/2246 [==============================] - 1s 253us/step\n"
     ]
    },
    {
     "data": {
      "text/plain": [
       "[1.022207977935234, 0.7756010686194165]"
      ]
     },
     "execution_count": 11,
     "metadata": {},
     "output_type": "execute_result"
    }
   ],
   "source": [
    "model=models.Sequential()\n",
    "model.add(layers.Dense(64,activation='relu',input_shape=(10000,)))\n",
    "model.add(layers.Dense(64,activation='relu'))\n",
    "model.add(layers.Dense(46,activation='softmax'))\n",
    "model.compile('rmsprop','categorical_crossentropy',['accuracy'])\n",
    "model.fit(partial_x_train,partial_y_train,epochs=9,batch_size=512,validation_data=(x_val,y_val))\n",
    "model.evaluate(x_test,one_hot_test_labels)"
   ]
  },
  {
   "cell_type": "code",
   "execution_count": 14,
   "metadata": {},
   "outputs": [
    {
     "data": {
      "text/plain": [
       "3"
      ]
     },
     "execution_count": 14,
     "metadata": {},
     "output_type": "execute_result"
    }
   ],
   "source": [
    "# generate predictions on new data\n",
    "predictions=model.predict(x_test)\n",
    "predictions[0].shape\n",
    "np.sum(predictions[0])\n",
    "np.argmax(predictions[0])"
   ]
  },
  {
   "cell_type": "code",
   "execution_count": 15,
   "metadata": {},
   "outputs": [
    {
     "name": "stdout",
     "output_type": "stream",
     "text": [
      "Epoch 1/9\n",
      "8982/8982 [==============================] - 2s 193us/step - loss: 0.3328 - acc: 0.9257\n",
      "Epoch 2/9\n",
      "8982/8982 [==============================] - 2s 170us/step - loss: 0.2402 - acc: 0.9412\n",
      "Epoch 3/9\n",
      "8982/8982 [==============================] - 2s 169us/step - loss: 0.2079 - acc: 0.9457\n",
      "Epoch 4/9\n",
      "8982/8982 [==============================] - 2s 172us/step - loss: 0.1817 - acc: 0.9490\n",
      "Epoch 5/9\n",
      "8982/8982 [==============================] - 2s 178us/step - loss: 0.1646 - acc: 0.9503\n",
      "Epoch 6/9\n",
      "8982/8982 [==============================] - 2s 170us/step - loss: 0.1520 - acc: 0.9532\n",
      "Epoch 7/9\n",
      "8982/8982 [==============================] - 2s 170us/step - loss: 0.1447 - acc: 0.9536\n",
      "Epoch 8/9\n",
      "8982/8982 [==============================] - 2s 178us/step - loss: 0.1313 - acc: 0.9555\n",
      "Epoch 9/9\n",
      "8982/8982 [==============================] - 2s 176us/step - loss: 0.1295 - acc: 0.9551\n",
      "2246/2246 [==============================] - 0s 194us/step\n"
     ]
    },
    {
     "data": {
      "text/plain": [
       "[1.1313820889456827, 0.7943009795191451]"
      ]
     },
     "execution_count": 15,
     "metadata": {},
     "output_type": "execute_result"
    }
   ],
   "source": [
    "# encode the labels as integer arrays\n",
    "y_train=np.array(train_labels)\n",
    "y_test=np.array(test_labels)\n",
    "model.compile('rmsprop','sparse_categorical_crossentropy',['acc'])\n",
    "model.fit(x_train,y_train,epochs=9,batch_size=512)\n",
    "model.evaluate(x_test,y_test)"
   ]
  },
  {
   "cell_type": "code",
   "execution_count": 19,
   "metadata": {},
   "outputs": [
    {
     "name": "stdout",
     "output_type": "stream",
     "text": [
      "Train on 7982 samples, validate on 1000 samples\n",
      "Epoch 1/9\n",
      "7982/7982 [==============================] - 3s 321us/step - loss: 2.9917 - acc: 0.3563 - val_loss: 2.3234 - val_acc: 0.4560\n",
      "Epoch 2/9\n",
      "7982/7982 [==============================] - 2s 280us/step - loss: 1.8007 - acc: 0.6057 - val_loss: 1.5944 - val_acc: 0.6740\n",
      "Epoch 3/9\n",
      "7982/7982 [==============================] - 2s 301us/step - loss: 1.3006 - acc: 0.7080 - val_loss: 1.4061 - val_acc: 0.6820\n",
      "Epoch 4/9\n",
      "7982/7982 [==============================] - 2s 264us/step - loss: 1.1236 - acc: 0.7258 - val_loss: 1.3723 - val_acc: 0.6890\n",
      "Epoch 5/9\n",
      "7982/7982 [==============================] - 2s 258us/step - loss: 1.0115 - acc: 0.7397 - val_loss: 1.3437 - val_acc: 0.6960\n",
      "Epoch 6/9\n",
      "7982/7982 [==============================] - 2s 263us/step - loss: 0.9235 - acc: 0.7553 - val_loss: 1.3474 - val_acc: 0.6980\n",
      "Epoch 7/9\n",
      "7982/7982 [==============================] - 2s 283us/step - loss: 0.8497 - acc: 0.7680 - val_loss: 1.3567 - val_acc: 0.7060\n",
      "Epoch 8/9\n",
      "7982/7982 [==============================] - 2s 273us/step - loss: 0.7895 - acc: 0.7829 - val_loss: 1.3858 - val_acc: 0.7010\n",
      "Epoch 9/9\n",
      "7982/7982 [==============================] - 2s 286us/step - loss: 0.7332 - acc: 0.7975 - val_loss: 1.4050 - val_acc: 0.7080\n",
      "2246/2246 [==============================] - 0s 187us/step\n"
     ]
    },
    {
     "data": {
      "text/plain": [
       "[1.4182761454306219, 0.6878895815312597]"
      ]
     },
     "execution_count": 19,
     "metadata": {},
     "output_type": "execute_result"
    }
   ],
   "source": [
    "model=models.Sequential()\n",
    "model.add(layers.Dense(64,activation='relu',input_shape=(10000,)))\n",
    "model.add(layers.Dense(4,activation='relu'))\n",
    "model.add(layers.Dense(46,activation='softmax'))\n",
    "model.compile('rmsprop','categorical_crossentropy',['accuracy'])\n",
    "model.fit(partial_x_train,partial_y_train,epochs=9,batch_size=128,validation_data=(x_val,y_val))\n",
    "model.evaluate(x_test,one_hot_test_labels)"
   ]
  },
  {
   "cell_type": "code",
   "execution_count": 20,
   "metadata": {},
   "outputs": [
    {
     "name": "stdout",
     "output_type": "stream",
     "text": [
      "Train on 7982 samples, validate on 1000 samples\n",
      "Epoch 1/9\n",
      "7982/7982 [==============================] - 4s 447us/step - loss: 1.6041 - acc: 0.6649 - val_loss: 1.1490 - val_acc: 0.7450\n",
      "Epoch 2/9\n",
      "7982/7982 [==============================] - 3s 403us/step - loss: 0.7874 - acc: 0.8255 - val_loss: 0.9214 - val_acc: 0.7970\n",
      "Epoch 3/9\n",
      "7982/7982 [==============================] - 3s 417us/step - loss: 0.4758 - acc: 0.9004 - val_loss: 0.8872 - val_acc: 0.8290\n",
      "Epoch 4/9\n",
      "7982/7982 [==============================] - 3s 412us/step - loss: 0.3137 - acc: 0.9331 - val_loss: 0.9188 - val_acc: 0.7930\n",
      "Epoch 5/9\n",
      "7982/7982 [==============================] - 3s 421us/step - loss: 0.2308 - acc: 0.9474 - val_loss: 0.8845 - val_acc: 0.8210\n",
      "Epoch 6/9\n",
      "7982/7982 [==============================] - 4s 538us/step - loss: 0.1925 - acc: 0.9491 - val_loss: 0.9325 - val_acc: 0.8150\n",
      "Epoch 7/9\n",
      "7982/7982 [==============================] - 4s 470us/step - loss: 0.1673 - acc: 0.9539 - val_loss: 0.9541 - val_acc: 0.8120\n",
      "Epoch 8/9\n",
      "7982/7982 [==============================] - 4s 494us/step - loss: 0.1509 - acc: 0.9535 - val_loss: 1.0415 - val_acc: 0.8000\n",
      "Epoch 9/9\n",
      "7982/7982 [==============================] - 4s 439us/step - loss: 0.1398 - acc: 0.9543 - val_loss: 1.0345 - val_acc: 0.8070\n",
      "2246/2246 [==============================] - 0s 204us/step\n"
     ]
    },
    {
     "data": {
      "text/plain": [
       "[1.2224167981321856, 0.7845057880676759]"
      ]
     },
     "execution_count": 20,
     "metadata": {},
     "output_type": "execute_result"
    }
   ],
   "source": [
    "# larger layers\n",
    "model=models.Sequential()\n",
    "model.add(layers.Dense(128,activation='relu',input_shape=(10000,)))\n",
    "model.add(layers.Dense(128,activation='relu'))\n",
    "model.add(layers.Dense(46,activation='softmax'))\n",
    "model.compile('rmsprop','categorical_crossentropy',['accuracy'])\n",
    "model.fit(partial_x_train,partial_y_train,epochs=9,batch_size=128,validation_data=(x_val,y_val))\n",
    "model.evaluate(x_test,one_hot_test_labels)"
   ]
  },
  {
   "cell_type": "code",
   "execution_count": 21,
   "metadata": {},
   "outputs": [
    {
     "name": "stdout",
     "output_type": "stream",
     "text": [
      "Train on 7982 samples, validate on 1000 samples\n",
      "Epoch 1/9\n",
      "7982/7982 [==============================] - 3s 340us/step - loss: 1.7549 - acc: 0.6270 - val_loss: 1.2548 - val_acc: 0.7070\n",
      "Epoch 2/9\n",
      "7982/7982 [==============================] - 2s 295us/step - loss: 0.9713 - acc: 0.7780 - val_loss: 1.0380 - val_acc: 0.7720\n",
      "Epoch 3/9\n",
      "7982/7982 [==============================] - 3s 321us/step - loss: 0.6638 - acc: 0.8523 - val_loss: 0.9768 - val_acc: 0.7910\n",
      "Epoch 4/9\n",
      "7982/7982 [==============================] - 2s 297us/step - loss: 0.4578 - acc: 0.8994 - val_loss: 0.9979 - val_acc: 0.7990\n",
      "Epoch 5/9\n",
      "7982/7982 [==============================] - 2s 282us/step - loss: 0.3242 - acc: 0.9286 - val_loss: 0.9247 - val_acc: 0.8240\n",
      "Epoch 6/9\n",
      "7982/7982 [==============================] - 2s 286us/step - loss: 0.2468 - acc: 0.9429 - val_loss: 0.9738 - val_acc: 0.8190\n",
      "Epoch 7/9\n",
      "7982/7982 [==============================] - 2s 303us/step - loss: 0.2076 - acc: 0.9483 - val_loss: 1.0473 - val_acc: 0.8090\n",
      "Epoch 8/9\n",
      "7982/7982 [==============================] - 2s 285us/step - loss: 0.1816 - acc: 0.9530 - val_loss: 1.1044 - val_acc: 0.8040\n",
      "Epoch 9/9\n",
      "7982/7982 [==============================] - 2s 272us/step - loss: 0.1646 - acc: 0.9526 - val_loss: 1.1111 - val_acc: 0.8040\n",
      "2246/2246 [==============================] - 0s 188us/step\n"
     ]
    },
    {
     "data": {
      "text/plain": [
       "[1.2872986233032715, 0.7756010686194165]"
      ]
     },
     "execution_count": 21,
     "metadata": {},
     "output_type": "execute_result"
    }
   ],
   "source": [
    "# more hidden layers\n",
    "model=models.Sequential()\n",
    "model.add(layers.Dense(64,activation='relu',input_shape=(10000,)))\n",
    "model.add(layers.Dense(64,activation='relu'))\n",
    "model.add(layers.Dense(64,activation='relu'))\n",
    "model.add(layers.Dense(46,activation='softmax'))\n",
    "model.compile('rmsprop','categorical_crossentropy',['accuracy'])\n",
    "model.fit(partial_x_train,partial_y_train,epochs=9,batch_size=128,validation_data=(x_val,y_val))\n",
    "model.evaluate(x_test,one_hot_test_labels)"
   ]
  }
 ],
 "metadata": {
  "kernelspec": {
   "display_name": "Python 3",
   "language": "python",
   "name": "python3"
  },
  "language_info": {
   "codemirror_mode": {
    "name": "ipython",
    "version": 3
   },
   "file_extension": ".py",
   "mimetype": "text/x-python",
   "name": "python",
   "nbconvert_exporter": "python",
   "pygments_lexer": "ipython3",
   "version": "3.6.3"
  }
 },
 "nbformat": 4,
 "nbformat_minor": 2
}
