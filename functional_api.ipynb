{
 "cells": [
  {
   "cell_type": "code",
   "execution_count": 1,
   "metadata": {},
   "outputs": [
    {
     "name": "stderr",
     "output_type": "stream",
     "text": [
      "D:\\anaconda3\\lib\\site-packages\\h5py\\__init__.py:34: FutureWarning: Conversion of the second argument of issubdtype from `float` to `np.floating` is deprecated. In future, it will be treated as `np.float64 == np.dtype(float).type`.\n",
      "  from ._conv import register_converters as _register_converters\n",
      "Using TensorFlow backend.\n"
     ]
    },
    {
     "name": "stdout",
     "output_type": "stream",
     "text": [
      "_________________________________________________________________\n",
      "Layer (type)                 Output Shape              Param #   \n",
      "=================================================================\n",
      "input_1 (InputLayer)         (None, 64)                0         \n",
      "_________________________________________________________________\n",
      "dense_4 (Dense)              (None, 32)                2080      \n",
      "_________________________________________________________________\n",
      "dense_5 (Dense)              (None, 32)                1056      \n",
      "_________________________________________________________________\n",
      "dense_6 (Dense)              (None, 10)                330       \n",
      "=================================================================\n",
      "Total params: 3,466\n",
      "Trainable params: 3,466\n",
      "Non-trainable params: 0\n",
      "_________________________________________________________________\n"
     ]
    }
   ],
   "source": [
    "# a functional api equivalent to a Sequential model\n",
    "from keras.models import Sequential, Model\n",
    "from keras import layers\n",
    "from keras import Input\n",
    "\n",
    "# a Sequential model\n",
    "seq_model=Sequential()\n",
    "seq_model.add(layers.Dense(32, activation='relu', input_shape=(64, )))\n",
    "seq_model.add(layers.Dense(32, activation='relu'))\n",
    "seq_model.add(layers.Dense(10, activation='softmax'))\n",
    "\n",
    "# its functional equivalent\n",
    "input_tensor=Input(shape=(64,))\n",
    "x=layers.Dense(32, activation='relu')(input_tensor)\n",
    "x=layers.Dense(32, activation='relu')(x)\n",
    "output_tensor=layers.Dense(10, activation='softmax')(x)\n",
    "\n",
    "#the Model class turns an input tensor and output tensor into a model\n",
    "model=Model(input_tensor, output_tensor)\n",
    "\n",
    "model.summary()"
   ]
  },
  {
   "cell_type": "code",
   "execution_count": 3,
   "metadata": {
    "collapsed": true
   },
   "outputs": [
    {
     "name": "stdout",
     "output_type": "stream",
     "text": [
      "Epoch 1/10\n",
      "1000/1000 [==============================] - 0s 198us/step - loss: 11.5340\n",
      "Epoch 2/10\n",
      "1000/1000 [==============================] - 0s 25us/step - loss: 11.5268\n",
      "Epoch 3/10\n",
      "1000/1000 [==============================] - 0s 23us/step - loss: 11.5251\n",
      "Epoch 4/10\n",
      "1000/1000 [==============================] - 0s 33us/step - loss: 11.5231\n",
      "Epoch 5/10\n",
      "1000/1000 [==============================] - 0s 27us/step - loss: 11.5204\n",
      "Epoch 6/10\n",
      "1000/1000 [==============================] - 0s 25us/step - loss: 11.5192\n",
      "Epoch 7/10\n",
      "1000/1000 [==============================] - 0s 26us/step - loss: 11.5179\n",
      "Epoch 8/10\n",
      "1000/1000 [==============================] - 0s 34us/step - loss: 11.5165\n",
      "Epoch 9/10\n",
      "1000/1000 [==============================] - 0s 34us/step - loss: 11.5154\n",
      "Epoch 10/10\n",
      "1000/1000 [==============================] - 0s 35us/step - loss: 11.5150\n",
      "1000/1000 [==============================] - 0s 68us/step\n"
     ]
    },
    {
     "data": {
      "text/plain": [
       "11.51127272796631"
      ]
     },
     "execution_count": 3,
     "metadata": {},
     "output_type": "execute_result"
    }
   ],
   "source": [
    "# compile and train the functional model\n",
    "model.compile(optimizer='rmsprop',loss='categorical_crossentropy')\n",
    "\n",
    "import numpy as np\n",
    "x_train=np.random.random((1000,64))\n",
    "y_train=np.random.random((1000,10))\n",
    "\n",
    "model.fit(x_train,y_train,epochs=10,batch_size=128)\n",
    "model.evaluate(x_train,y_train)"
   ]
  },
  {
   "cell_type": "code",
   "execution_count": 2,
   "metadata": {},
   "outputs": [
    {
     "name": "stderr",
     "output_type": "stream",
     "text": [
      "D:\\anaconda3\\lib\\site-packages\\h5py\\__init__.py:34: FutureWarning: Conversion of the second argument of issubdtype from `float` to `np.floating` is deprecated. In future, it will be treated as `np.float64 == np.dtype(float).type`.\n",
      "  from ._conv import register_converters as _register_converters\n",
      "Using TensorFlow backend.\n"
     ]
    }
   ],
   "source": [
    "# Multiple input model: a question-answering model\n",
    "from keras.models import Model\n",
    "from keras import layers\n",
    "from keras import Input\n",
    "\n",
    "text_vocabulary_size=10000\n",
    "question_vocabulary_size=10000\n",
    "answer_vocabulary_size=500\n",
    "\n",
    "# the text input is a variable-length sequence of integers\n",
    "text_input=Input(shape=(None, ),dtype='int32', name='text')\n",
    "# embed the text input into a sequence of vectors of size 64\n",
    "embedded_text=layers.Embedding(64, text_vocabulary_size)(text_input)\n",
    "# decode in a single vector via a LTSM\n",
    "encoded_text=layers.LSTM(32)(embedded_text)\n",
    "\n",
    "# same process for the question\n",
    "question_input=Input(shape=(None, ),dtype='int32', name='question')\n",
    "embedded_question=layers.Embedding(32, question_vocabulary_size)(question_input)\n",
    "encoded_question=layers.LSTM(16)(embedded_question)\n",
    "\n",
    "# concatenate the encoded question and encoded text\n",
    "concatenated=layers.concatenate([encoded_text, encoded_question], axis=-1)\n",
    "\n",
    "# add a softmax classifier on top\n",
    "answer=layers.Dense(answer_vocabulary_size, activation='softmax')(concatenated)\n",
    "\n",
    "# specify the two inputs and the output at model instantiation\n",
    "model=Model([text_input, question_input], answer)\n",
    "model.compile(optimizer='rmsprop', loss='categorical_crossentropy', metrics=['acc'])"
   ]
  },
  {
   "cell_type": "code",
   "execution_count": null,
   "metadata": {},
   "outputs": [],
   "source": [
    "# feed data to a multi-input model\n",
    "import numpy as np\n",
    "\n",
    "num_samples=10000\n",
    "max_length=10\n",
    "\n",
    "# generate some dummy Numpy datamax_length\n",
    "text=np.random.randint(1, text_vocabulary_size, size=(num_samples, max_length))\n",
    "question=np.random.randint(1, question_vocabulary_size, size=(num_samples, max_length))\n",
    "# answers are one-hot encoded, not integers\n",
    "answers=np.random.randint(0,1,size=(num_samples, answer_vocabulary_size))\n",
    "\n",
    "# fit using a list of input\n",
    "model.fit([text, question], answers, epochs=10, batch_size=128)\n",
    "\n",
    "# fit using a dictionary pf inputs (only if inputs were named)\n",
    "model.fit({'text':text, 'question':question}, answers, epochs=10, batch_size=128)"
   ]
  },
  {
   "cell_type": "code",
   "execution_count": 10,
   "metadata": {},
   "outputs": [],
   "source": [
    "# Multi-output model: a three-output model\n",
    "from keras import layers\n",
    "from keras import Input\n",
    "from keras.models import Model\n",
    "\n",
    "vocabulary_size=50000\n",
    "num_income_groups=10\n",
    "\n",
    "posts_input=Input(shape=(None, ), dtype='int32', name='posts')\n",
    "embedded_posts=layers.Embedding(256, vocabulary_size)(posts_input)\n",
    "x=layers.Conv1D(128,5,activation='relu')(embedded_posts)\n",
    "x=layers.MaxPooling1D(5)(x)\n",
    "x=layers.Conv1D(256,5,activation='relu')(x)\n",
    "x=layers.Conv1D(256,5,activation='relu')(x)\n",
    "x=layers.MaxPooling1D(5)(x)\n",
    "x=layers.Conv1D(256,5,activation='relu')(x)\n",
    "x=layers.Conv1D(256,5,activation='relu')(x)\n",
    "x=layers.GlobalMaxPooling1D()(x)\n",
    "x=layers.Dense(128,activation='relu')(x)\n",
    "\n",
    "# give names to the output layers\n",
    "age_prediction=layers.Dense(1, name='age')(x)\n",
    "income_prediction=layers.Dense(num_income_groups, activation='softmax', name='income')(x)\n",
    "gender_prediction=layers.Dense(1, activation='sigmoid', name='gender')(x)\n",
    "\n",
    "model=Model(posts_input, [age_prediction, income_prediction, gender_prediction])"
   ]
  },
  {
   "cell_type": "code",
   "execution_count": null,
   "metadata": {
    "collapsed": true
   },
   "outputs": [],
   "source": [
    "# compilation options of a multi-output model: multiple losses\n",
    "model.compile(optimizer='rmsprop', loss=['mae', 'categorical_crossentropy', 'binary_crossentropy'])\n",
    "# equivalent (only if the output layers are given names)\n",
    "model.compile(optimizer='rmsprop', loss={'age':'mae', 'income':'categorical_crossentropy', 'gender':'binary_crossentropy'})\n",
    "\n",
    "# loss weighting\n",
    "model.compile(optimizer='rmsprop', loss=['mae', 'categorical_crossentropy', 'binary_crossentropy'],\n",
    "             loss_weights=[0.25, 1., 10.])\n",
    "# equivalent\n",
    "model.compile(optimizer='rmsprop', loss={'age':'mae', 'income':'categorical_crossentropy', 'gender':'binary_crossentropy'},\n",
    "             loss_weights={'age':0.25, 'income':1., 'gender':10.})"
   ]
  },
  {
   "cell_type": "code",
   "execution_count": null,
   "metadata": {
    "collapsed": true
   },
   "outputs": [],
   "source": [
    "# feed data to a multi-output model\n",
    "model.fit(posts, [age_targets, income_targets, gender_targets], epochs=10, batch_size=64)\n",
    "# equivalent\n",
    "model.fit(posts, {'age':age_targets, 'income':income_targets, 'gender':gender_targets}, epochs=10, batch_size=64)"
   ]
  },
  {
   "cell_type": "code",
   "execution_count": null,
   "metadata": {},
   "outputs": [],
   "source": [
    "# Inception module with the functional api: Inception V3\n",
    "from keras import layers\n",
    "\n",
    "# assume the existence of a 4D input tensor 'x'\n",
    "\n",
    "# every branch has the same stride value (2), to keep all branch outputs the same size\n",
    "branch_a=layers.Conv2D(128, 1, activation='relu', strides=2)(x)\n",
    "\n",
    "# the striding occurs in the spatial convolution layer\n",
    "branch_b=layers.Conv2D(128, 1, activation='relu')(x)\n",
    "branch_b=layers.Conv2D(128, 3, activation='relu', strides=2)(branch_b)\n",
    "\n",
    "# the striding occurs in the average pooling layer\n",
    "branch_c=layers.AveragePooling2D(3, activation='relu', strides=2)(x)\n",
    "branch_c=layers.Conv2D(128, 3, activation='relu')(branch_c)\n",
    "\n",
    "branch_d=layers.Conv2D(128, 1, activation='relu')(x)\n",
    "branch_d=layers.Conv2D(128, 3, activation='relu')(branch_d)\n",
    "branch_d=layers.Conv2D(128, 3, activation='relu', strides=2)(branch_d)\n",
    "\n",
    "# concatenate the branch outputs to obtain the module output\n",
    "output=layers.concatenate([branch_a, branch_b, branch_c, branch_d], axis=-1)"
   ]
  },
  {
   "cell_type": "code",
   "execution_count": null,
   "metadata": {
    "collapsed": true
   },
   "outputs": [],
   "source": [
    "# Residual connection\n",
    "from keras import layers\n",
    "\n",
    "# assume the existence of a 4D input tensor 'x'\n",
    "x=...\n",
    "\n",
    "# when feature map sizes are the same\n",
    "y=layers.Conv2D(128, 3, activation='relu')(x)\n",
    "y=layers.Conv2D(128, 3, activation='relu')(y)\n",
    "y=layers.Conv2D(128, 3, activation='relu')(y)\n",
    "\n",
    "# add the original 'x' back to the output features\n",
    "y=layers.MaxPooling2D(2, strides=2)(y)"
   ]
  },
  {
   "cell_type": "code",
   "execution_count": null,
   "metadata": {
    "collapsed": true
   },
   "outputs": [],
   "source": [
    "# when feature map sizes are different\n",
    "y=layers.Conv2D(128, 3, activation='relu')(x)\n",
    "y=layers.Conv2D(128, 3, activation='relu')(y)\n",
    "y=layers.MaxPooling2D(2, strides=2)(y)\n",
    "\n",
    "# use a 1x1 convolution to linearly downsample the original 'x' tensor to be the same shape as 'y'\n",
    "residual=layers.Conv2D(1, strides=2)(x)\n",
    "\n",
    "# add the residual tensor back to the output features\n",
    "y=layers.add([y,residual])"
   ]
  },
  {
   "cell_type": "code",
   "execution_count": null,
   "metadata": {},
   "outputs": [],
   "source": [
    "# Layer weight sharing: a shared LSTM model\n",
    "from keras import layers\n",
    "from keras import Input\n",
    "from keras.models import Model\n",
    "\n",
    "# instantiate a single LSTM layer, once\n",
    "lstm=layers.LSTM(32)\n",
    "\n",
    "# build the left branch of the model\n",
    "left_input=Input(shape=(None, 128))\n",
    "left_output=lstm(left_input)\n",
    "\n",
    "# build the right branch of the model\n",
    "right_input=Input(shape=(None, 128))\n",
    "# when calling an existing layer instance, we are reusing its weights\n",
    "right_output=lstm(right_input)\n",
    "\n",
    "# build the classifier on top\n",
    "merged=layers.concatenate([left_output, right_output], axis=-1)\n",
    "predictions=layers.Dense(1, activation='sigmoid')(merged)\n",
    "\n",
    "# instantiate and train the model\n",
    "model=Model([left_input, right_input], predictions)\n",
    "# when training such a model, the weights of the lstm layer are updated based on both inputs\n",
    "model.fit([left_data, right_data], targets)"
   ]
  },
  {
   "cell_type": "code",
   "execution_count": null,
   "metadata": {
    "collapsed": true
   },
   "outputs": [],
   "source": [
    "# Models as layers: a shared vision model\n",
    "from keras import layers\n",
    "from keras import applications\n",
    "from keras import Input\n",
    "\n",
    "# the base image processing model will be the Xception network\n",
    "xception_base=applications.Xception(weights=None, include_top=False)\n",
    "\n",
    "# the inputs are 250x250 RGB images\n",
    "left_input=Input(shape=(250,250,3))\n",
    "right_input=Input(shape=(250,250,3))\n",
    "\n",
    "# call the same vision model twice, and reuse its weights\n",
    "left_features=xception_base(left_input)\n",
    "right_features=xception_base(right_input)\n",
    "\n",
    "# the merged features contain information from both the right visual feed and the left visual feed\n",
    "merged_features=layers.concatenate([left_features, right_features], axis=-1)"
   ]
  }
 ],
 "metadata": {
  "kernelspec": {
   "display_name": "Python 3",
   "language": "python",
   "name": "python3"
  },
  "language_info": {
   "codemirror_mode": {
    "name": "ipython",
    "version": 3
   },
   "file_extension": ".py",
   "mimetype": "text/x-python",
   "name": "python",
   "nbconvert_exporter": "python",
   "pygments_lexer": "ipython3",
   "version": "3.6.3"
  }
 },
 "nbformat": 4,
 "nbformat_minor": 2
}
