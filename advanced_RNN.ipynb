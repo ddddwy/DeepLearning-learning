{
 "cells": [
  {
   "cell_type": "code",
   "execution_count": 1,
   "metadata": {},
   "outputs": [
    {
     "name": "stdout",
     "output_type": "stream",
     "text": [
      "['\"Date Time\"', '\"p (mbar)\"', '\"T (degC)\"', '\"Tpot (K)\"', '\"Tdew (degC)\"', '\"rh (%)\"', '\"VPmax (mbar)\"', '\"VPact (mbar)\"', '\"VPdef (mbar)\"', '\"sh (g/kg)\"', '\"H2OC (mmol/mol)\"', '\"rho (g/m**3)\"', '\"wv (m/s)\"', '\"max. wv (m/s)\"', '\"wd (deg)\"']\n",
      "420551\n"
     ]
    }
   ],
   "source": [
    "import os\n",
    "\n",
    "data_dir='/Users/think/Downloads/jena_climate'\n",
    "fname=os.path.join(data_dir, 'jena_climate_2009_2016.csv')\n",
    "\n",
    "f=open(fname,encoding='utf8')\n",
    "data=f.read()\n",
    "f.close()\n",
    "\n",
    "lines=data.split('\\n')\n",
    "header=lines[0].split(',')\n",
    "lines=lines[1:]\n",
    "\n",
    "print(header)\n",
    "print(len(lines))"
   ]
  },
  {
   "cell_type": "code",
   "execution_count": 2,
   "metadata": {
    "collapsed": true
   },
   "outputs": [],
   "source": [
    "# Parse the data\n",
    "import numpy as np\n",
    "\n",
    "float_data=np.zeros((len(lines),len(header)-1))\n",
    "for i,line in enumerate(lines):\n",
    "    values=[float(x) for x in line.split(',')[1:]]\n",
    "    float_data[i,:]=values"
   ]
  },
  {
   "cell_type": "code",
   "execution_count": 3,
   "metadata": {},
   "outputs": [
    {
     "data": {
      "text/plain": [
       "[<matplotlib.lines.Line2D at 0x20a5355eb38>]"
      ]
     },
     "execution_count": 3,
     "metadata": {},
     "output_type": "execute_result"
    },
    {
     "data": {
      "image/png": "[encoded data removed]",
      "text/plain": [
       "<matplotlib.figure.Figure at 0x20a40b4ac18>"
      ]
     },
     "metadata": {},
     "output_type": "display_data"
    }
   ],
   "source": [
    "# plot the temperature timeseries\n",
    "% matplotlib inline\n",
    "import matplotlib.pyplot as plt\n",
    "\n",
    "temp=float_data[:,1]\n",
    "plt.plot(range(1440),temp[:1440])"
   ]
  },
  {
   "cell_type": "code",
   "execution_count": 4,
   "metadata": {
    "collapsed": true
   },
   "outputs": [],
   "source": [
    "# Prepare the data\n",
    "# parameter values:\n",
    "# lookback=720, our observations will go back 5 days\n",
    "# steps=6, our observations will be sampled at one data point per hour\n",
    "# delay=144, our targets will be 24 hours in the future\n",
    "# min_index & max_index, indices in the data array that delimit which timeteps to draw from\n",
    "# shuffle, whether to shuffle our samples or draw them in chronological order\n",
    "# batch_size, the number of samples per batch\n",
    "\n",
    "# use the first 200,000 timesteps as training data\n",
    "# normalize the data\n",
    "mean=float_data[:200000].mean(axis=0)\n",
    "float_data -= mean\n",
    "std=float_data[:200000].std(axis=0)\n",
    "float_data /= std\n",
    "\n",
    "# create a generator yielding timeseries and targets\n",
    "def generator(data, lookback, delay, min_index, max_index, shuffle=False, batch_size=128, step=6):\n",
    "    if max_index is None:\n",
    "        max_index=len(data)-delay-1\n",
    "    i=min_index+lookback\n",
    "    while 1:\n",
    "        if shuffle:\n",
    "            # 随机生成一个数组，最小值为min_index+lookback，最大值为max_index，长度为batch_size\n",
    "            rows=np.random.randint(min_index+lookback, max_index, size=batch_size)\n",
    "        else:\n",
    "            if i+batch_size>=max_index:\n",
    "                i=min_index+lookback\n",
    "            rows=np.arange(i,min(i+batch_size, max_index))\n",
    "            i += len(rows)\n",
    "        \n",
    "        samples=np.zeros((len(rows), lookback//step, data.shape[-1]))\n",
    "        targets=np.zeros((len(rows),))\n",
    "        for j, row in enumerate(rows):\n",
    "            indices=range(rows[j]-lookback, rows[j], step)\n",
    "            samples[j]=data[indices]\n",
    "            targets[j]=data[rows[j]+delay][1]\n",
    "        yield samples, targets\n",
    "\n",
    "lookback=1440\n",
    "step=6\n",
    "delay=144\n",
    "batch_size=128\n",
    "\n",
    "train_gen=generator(float_data, lookback=lookback, delay=delay, min_index=0, max_index=200000, shuffle=True, step=step, batch_size=batch_size)\n",
    "val_gen=generator(float_data, lookback=lookback, delay=delay, min_index=200001, max_index=300000, step=step, batch_size=batch_size)\n",
    "test_gen=generator(float_data, lookback=lookback, delay=delay, min_index=300001, max_index=None, step=step, batch_size=batch_size)\n",
    "\n",
    "val_steps=(300000-200001-lookback)//batch_size\n",
    "test_steps=(len(float_data)-300001-lookback)//batch_size"
   ]
  },
  {
   "cell_type": "code",
   "execution_count": 5,
   "metadata": {},
   "outputs": [
    {
     "name": "stdout",
     "output_type": "stream",
     "text": [
      "2.564887434980494\n"
     ]
    }
   ],
   "source": [
    "# compute the common sense baseline MAE \n",
    "# (the temperature 24 hours from now will be equal to the temperature right now)\n",
    "def evaluate_naive_method():\n",
    "    batch_maes=[]\n",
    "    for step in range(val_steps):\n",
    "        samples,targets=next(val_gen)\n",
    "        preds=samples[:,-1,1]\n",
    "        mae=np.mean(np.abs(preds-targets))\n",
    "        batch_maes.append(mae)\n",
    "    return np.mean(batch_maes)\n",
    "\n",
    "mae=evaluate_naive_method()\n",
    "# convert the MAE back to a Celsius error\n",
    "celsius_mae=mae*std[1]\n",
    "print(celsius_mae)"
   ]
  },
  {
   "cell_type": "code",
   "execution_count": 6,
   "metadata": {},
   "outputs": [
    {
     "name": "stderr",
     "output_type": "stream",
     "text": [
      "D:\\anaconda3\\lib\\site-packages\\h5py\\__init__.py:34: FutureWarning: Conversion of the second argument of issubdtype from `float` to `np.floating` is deprecated. In future, it will be treated as `np.float64 == np.dtype(float).type`.\n",
      "  from ._conv import register_converters as _register_converters\n",
      "Using TensorFlow backend.\n"
     ]
    },
    {
     "name": "stdout",
     "output_type": "stream",
     "text": [
      "Epoch 1/20\n",
      "500/500 [==============================] - 13s 27ms/step - loss: 1.8761 - val_loss: 0.8369\n",
      "Epoch 2/20\n",
      "500/500 [==============================] - 13s 26ms/step - loss: 0.8290 - val_loss: 0.7149\n",
      "Epoch 3/20\n",
      "500/500 [==============================] - 13s 26ms/step - loss: 0.4360 - val_loss: 0.3155\n",
      "Epoch 4/20\n",
      "500/500 [==============================] - 13s 26ms/step - loss: 0.3004 - val_loss: 0.3428\n",
      "Epoch 5/20\n",
      "500/500 [==============================] - 13s 26ms/step - loss: 0.2711 - val_loss: 0.3507\n",
      "Epoch 6/20\n",
      "500/500 [==============================] - 13s 27ms/step - loss: 0.2564 - val_loss: 0.3215\n",
      "Epoch 7/20\n",
      "500/500 [==============================] - 14s 29ms/step - loss: 0.2532 - val_loss: 0.3393\n",
      "Epoch 8/20\n",
      "500/500 [==============================] - 13s 26ms/step - loss: 0.2430 - val_loss: 0.4003\n",
      "Epoch 9/20\n",
      "500/500 [==============================] - 13s 25ms/step - loss: 0.2398 - val_loss: 0.3304\n",
      "Epoch 10/20\n",
      "500/500 [==============================] - 13s 25ms/step - loss: 0.2339 - val_loss: 0.3334\n",
      "Epoch 11/20\n",
      "500/500 [==============================] - 13s 25ms/step - loss: 0.2291 - val_loss: 0.3337\n",
      "Epoch 12/20\n",
      "500/500 [==============================] - 13s 25ms/step - loss: 0.2262 - val_loss: 0.3725\n",
      "Epoch 13/20\n",
      "500/500 [==============================] - 13s 25ms/step - loss: 0.2239 - val_loss: 0.3254\n",
      "Epoch 14/20\n",
      "500/500 [==============================] - 13s 25ms/step - loss: 0.2232 - val_loss: 0.3461\n",
      "Epoch 15/20\n",
      "500/500 [==============================] - 13s 25ms/step - loss: 0.2218 - val_loss: 0.3739\n",
      "Epoch 16/20\n",
      "500/500 [==============================] - 13s 25ms/step - loss: 0.2226 - val_loss: 0.3456\n",
      "Epoch 17/20\n",
      "500/500 [==============================] - 13s 26ms/step - loss: 0.2194 - val_loss: 0.3483\n",
      "Epoch 18/20\n",
      "500/500 [==============================] - 13s 25ms/step - loss: 0.2150 - val_loss: 0.3511\n",
      "Epoch 19/20\n",
      "500/500 [==============================] - 13s 25ms/step - loss: 0.2172 - val_loss: 0.3446\n",
      "Epoch 20/20\n",
      "500/500 [==============================] - 13s 25ms/step - loss: 0.2165 - val_loss: 0.3537\n"
     ]
    }
   ],
   "source": [
    "# train and evaluate a densely-connected model\n",
    "from keras.models import Sequential\n",
    "from keras import layers\n",
    "from keras.optimizers import RMSprop\n",
    "\n",
    "model=Sequential()\n",
    "model.add(layers.Flatten(input_shape=(lookback//step, float_data.shape[-1])))\n",
    "model.add(layers.Dense(32, activation='relu'))\n",
    "model.add(layers.Dense(1))\n",
    "\n",
    "model.compile(optimizer=RMSprop(),loss='mae')\n",
    "# steps_per_epoch：整数，当生成器返回steps_per_epoch次数据时计一个epoch结束，执行下一个epoch\n",
    "# epochs：整数，数据迭代的轮数\n",
    "# validation_steps: 当validation_data为生成器时，本参数指定验证集的生成器返回次数\n",
    "history=model.fit_generator(train_gen, steps_per_epoch=500, epochs=20, validation_data=val_gen, validation_steps=val_steps)"
   ]
  },
  {
   "cell_type": "code",
   "execution_count": 7,
   "metadata": {},
   "outputs": [
    {
     "data": {
      "image/png": "[encoded data removed]",
      "text/plain": [
       "<matplotlib.figure.Figure at 0x20a59f54f60>"
      ]
     },
     "metadata": {},
     "output_type": "display_data"
    }
   ],
   "source": [
    "loss=history.history['loss']\n",
    "val_loss=history.history['val_loss']\n",
    "epochs=range(1, len(loss)+1)\n",
    "\n",
    "plt.figure()\n",
    "plt.plot(epochs, loss, 'bo', label='Training loss')\n",
    "plt.plot(epochs, val_loss, 'b', label='Validation loss')\n",
    "plt.title('Training and Validation loss')\n",
    "plt.legend()\n",
    "plt.show()"
   ]
  },
  {
   "cell_type": "code",
   "execution_count": 8,
   "metadata": {},
   "outputs": [
    {
     "name": "stdout",
     "output_type": "stream",
     "text": [
      "Epoch 1/20\n",
      "500/500 [==============================] - 80s 160ms/step - loss: 0.3003 - val_loss: 0.2712\n",
      "Epoch 2/20\n",
      "500/500 [==============================] - 80s 161ms/step - loss: 0.2838 - val_loss: 0.2668\n",
      "Epoch 3/20\n",
      "500/500 [==============================] - 80s 159ms/step - loss: 0.2777 - val_loss: 0.2772\n",
      "Epoch 4/20\n",
      "500/500 [==============================] - 79s 159ms/step - loss: 0.2739 - val_loss: 0.2661\n",
      "Epoch 5/20\n",
      "500/500 [==============================] - 81s 161ms/step - loss: 0.2677 - val_loss: 0.2662\n",
      "Epoch 6/20\n",
      "500/500 [==============================] - 80s 160ms/step - loss: 0.2628 - val_loss: 0.2685\n",
      "Epoch 7/20\n",
      "500/500 [==============================] - 79s 158ms/step - loss: 0.2586 - val_loss: 0.2745\n",
      "Epoch 8/20\n",
      "500/500 [==============================] - 79s 159ms/step - loss: 0.2545 - val_loss: 0.2751\n",
      "Epoch 9/20\n",
      "500/500 [==============================] - 80s 159ms/step - loss: 0.2488 - val_loss: 0.2731\n",
      "Epoch 10/20\n",
      "500/500 [==============================] - 80s 160ms/step - loss: 0.2453 - val_loss: 0.2796\n",
      "Epoch 11/20\n",
      "500/500 [==============================] - 82s 165ms/step - loss: 0.2400 - val_loss: 0.2821\n",
      "Epoch 12/20\n",
      "500/500 [==============================] - 80s 160ms/step - loss: 0.2366 - val_loss: 0.2892\n",
      "Epoch 13/20\n",
      "500/500 [==============================] - 80s 160ms/step - loss: 0.2315 - val_loss: 0.2941\n",
      "Epoch 14/20\n",
      "500/500 [==============================] - 80s 160ms/step - loss: 0.2270 - val_loss: 0.2939\n",
      "Epoch 15/20\n",
      "500/500 [==============================] - 80s 160ms/step - loss: 0.2232 - val_loss: 0.2995\n",
      "Epoch 16/20\n",
      "500/500 [==============================] - 80s 160ms/step - loss: 0.2201 - val_loss: 0.3046\n",
      "Epoch 17/20\n",
      "500/500 [==============================] - 80s 160ms/step - loss: 0.2150 - val_loss: 0.3037\n",
      "Epoch 18/20\n",
      "500/500 [==============================] - 80s 160ms/step - loss: 0.2122 - val_loss: 0.3007\n",
      "Epoch 19/20\n",
      "500/500 [==============================] - 80s 159ms/step - loss: 0.2095 - val_loss: 0.3098\n",
      "Epoch 20/20\n",
      "500/500 [==============================] - 80s 160ms/step - loss: 0.2073 - val_loss: 0.3098\n"
     ]
    }
   ],
   "source": [
    "# train and evaluate a GRU-based model\n",
    "model=Sequential()\n",
    "model.add(layers.GRU(32, input_shape=(None, float_data.shape[-1])))\n",
    "model.add(layers.Dense(1))\n",
    "\n",
    "model.compile(optimizer=RMSprop(),loss='mae')\n",
    "history=model.fit_generator(train_gen, steps_per_epoch=500, epochs=20, validation_data=val_gen, validation_steps=val_steps)"
   ]
  },
  {
   "cell_type": "code",
   "execution_count": 9,
   "metadata": {
    "scrolled": true
   },
   "outputs": [
    {
     "data": {
      "image/png": "[encoded data removed]",
      "text/plain": [
       "<matplotlib.figure.Figure at 0x20a5b557e48>"
      ]
     },
     "metadata": {},
     "output_type": "display_data"
    }
   ],
   "source": [
    "loss=history.history['loss']\n",
    "val_loss=history.history['val_loss']\n",
    "epochs=range(1, len(loss)+1)\n",
    "\n",
    "plt.figure()\n",
    "plt.plot(epochs, loss, 'bo', label='Training loss')\n",
    "plt.plot(epochs, val_loss, 'b', label='Validation loss')\n",
    "plt.title('Training and Validation loss')\n",
    "plt.legend()\n",
    "plt.show()"
   ]
  },
  {
   "cell_type": "code",
   "execution_count": 10,
   "metadata": {},
   "outputs": [
    {
     "name": "stdout",
     "output_type": "stream",
     "text": [
      "Epoch 1/40\n",
      "500/500 [==============================] - 87s 173ms/step - loss: 0.3397 - val_loss: 0.2771\n",
      "Epoch 2/40\n",
      "500/500 [==============================] - 85s 171ms/step - loss: 0.3145 - val_loss: 0.2737\n",
      "Epoch 3/40\n",
      "500/500 [==============================] - 85s 171ms/step - loss: 0.3116 - val_loss: 0.2703\n",
      "Epoch 4/40\n",
      "500/500 [==============================] - 86s 172ms/step - loss: 0.3038 - val_loss: 0.2771\n",
      "Epoch 5/40\n",
      "500/500 [==============================] - 86s 171ms/step - loss: 0.3019 - val_loss: 0.2686\n",
      "Epoch 6/40\n",
      "500/500 [==============================] - 85s 171ms/step - loss: 0.2973 - val_loss: 0.2704\n",
      "Epoch 7/40\n",
      "500/500 [==============================] - 85s 171ms/step - loss: 0.2970 - val_loss: 0.2679\n",
      "Epoch 8/40\n",
      "500/500 [==============================] - 86s 171ms/step - loss: 0.2948 - val_loss: 0.2662\n",
      "Epoch 9/40\n",
      "500/500 [==============================] - 86s 171ms/step - loss: 0.2924 - val_loss: 0.2658\n",
      "Epoch 10/40\n",
      "500/500 [==============================] - 85s 171ms/step - loss: 0.2928 - val_loss: 0.2670\n",
      "Epoch 11/40\n",
      "500/500 [==============================] - 86s 172ms/step - loss: 0.2909 - val_loss: 0.2650\n",
      "Epoch 12/40\n",
      "500/500 [==============================] - 86s 172ms/step - loss: 0.2885 - val_loss: 0.2701\n",
      "Epoch 13/40\n",
      "500/500 [==============================] - 85s 171ms/step - loss: 0.2875 - val_loss: 0.2648\n",
      "Epoch 14/40\n",
      "500/500 [==============================] - 86s 172ms/step - loss: 0.2849 - val_loss: 0.2684\n",
      "Epoch 15/40\n",
      "500/500 [==============================] - 86s 172ms/step - loss: 0.2827 - val_loss: 0.2710\n",
      "Epoch 16/40\n",
      "500/500 [==============================] - 86s 172ms/step - loss: 0.2842 - val_loss: 0.2651\n",
      "Epoch 17/40\n",
      "500/500 [==============================] - 86s 172ms/step - loss: 0.2833 - val_loss: 0.2641\n",
      "Epoch 18/40\n",
      "500/500 [==============================] - 86s 172ms/step - loss: 0.2813 - val_loss: 0.2656\n",
      "Epoch 19/40\n",
      "500/500 [==============================] - 86s 172ms/step - loss: 0.2816 - val_loss: 0.2704\n",
      "Epoch 20/40\n",
      "500/500 [==============================] - 86s 172ms/step - loss: 0.2797 - val_loss: 0.2670\n",
      "Epoch 21/40\n",
      "500/500 [==============================] - 86s 172ms/step - loss: 0.2790 - val_loss: 0.2689\n",
      "Epoch 22/40\n",
      "500/500 [==============================] - 84s 168ms/step - loss: 0.2795 - val_loss: 0.2637\n",
      "Epoch 23/40\n",
      "500/500 [==============================] - 86s 172ms/step - loss: 0.2769 - val_loss: 0.2639\n",
      "Epoch 24/40\n",
      "500/500 [==============================] - 86s 172ms/step - loss: 0.2766 - val_loss: 0.2627\n",
      "Epoch 25/40\n",
      "500/500 [==============================] - 86s 172ms/step - loss: 0.2765 - val_loss: 0.2657\n",
      "Epoch 26/40\n",
      "500/500 [==============================] - 86s 172ms/step - loss: 0.2757 - val_loss: 0.2660\n",
      "Epoch 27/40\n",
      "500/500 [==============================] - 86s 172ms/step - loss: 0.2732 - val_loss: 0.2754\n",
      "Epoch 28/40\n",
      "500/500 [==============================] - 86s 172ms/step - loss: 0.2732 - val_loss: 0.2659\n",
      "Epoch 29/40\n",
      "500/500 [==============================] - 87s 175ms/step - loss: 0.2735 - val_loss: 0.2663\n",
      "Epoch 30/40\n",
      "500/500 [==============================] - 86s 173ms/step - loss: 0.2728 - val_loss: 0.2652\n",
      "Epoch 31/40\n",
      "500/500 [==============================] - 86s 172ms/step - loss: 0.2718 - val_loss: 0.2681\n",
      "Epoch 32/40\n",
      "500/500 [==============================] - 87s 173ms/step - loss: 0.2714 - val_loss: 0.2678\n",
      "Epoch 33/40\n",
      "500/500 [==============================] - 87s 173ms/step - loss: 0.2690 - val_loss: 0.2745\n",
      "Epoch 34/40\n",
      "500/500 [==============================] - 88s 176ms/step - loss: 0.2693 - val_loss: 0.2648\n",
      "Epoch 35/40\n",
      "500/500 [==============================] - 87s 174ms/step - loss: 0.2690 - val_loss: 0.2703\n",
      "Epoch 36/40\n",
      "500/500 [==============================] - 87s 174ms/step - loss: 0.2671 - val_loss: 0.2803\n",
      "Epoch 37/40\n",
      "500/500 [==============================] - 87s 174ms/step - loss: 0.2693 - val_loss: 0.2724\n",
      "Epoch 38/40\n",
      "500/500 [==============================] - 87s 174ms/step - loss: 0.2691 - val_loss: 0.2683\n",
      "Epoch 39/40\n",
      "500/500 [==============================] - 87s 174ms/step - loss: 0.2676 - val_loss: 0.2735\n",
      "Epoch 40/40\n",
      "500/500 [==============================] - 88s 175ms/step - loss: 0.2667 - val_loss: 0.2768\n"
     ]
    }
   ],
   "source": [
    "# Fight add dropout and recurrent dropout to the GRU layer\n",
    "# dropout: a float specifies the dropout rate for input units of the layer\n",
    "# recurrent_dropout: specify the dropout rate of the recurrent units\n",
    "model=Sequential()\n",
    "model.add(layers.GRU(32, dropout=0.2, recurrent_dropout=0.2, input_shape=(None, float_data.shape[-1])))\n",
    "model.add(layers.Dense(1))\n",
    "\n",
    "model.compile(optimizer=RMSprop(),loss='mae')\n",
    "history=model.fit_generator(train_gen, steps_per_epoch=500, epochs=40, validation_data=val_gen, validation_steps=val_steps)"
   ]
  },
  {
   "cell_type": "code",
   "execution_count": 11,
   "metadata": {},
   "outputs": [
    {
     "data": {
      "image/png": "[encoded data removed]",
      "text/plain": [
       "<matplotlib.figure.Figure at 0x20a5b1d0518>"
      ]
     },
     "metadata": {},
     "output_type": "display_data"
    }
   ],
   "source": [
    "loss=history.history['loss']\n",
    "val_loss=history.history['val_loss']\n",
    "epochs=range(1, len(loss)+1)\n",
    "plt.figure()\n",
    "plt.plot(epochs, loss, 'bo', label='Training loss')\n",
    "plt.plot(epochs, val_loss, 'b', label='Validation loss')\n",
    "plt.title('Training and Validation loss')\n",
    "plt.legend()\n",
    "plt.show()"
   ]
  },
  {
   "cell_type": "code",
   "execution_count": null,
   "metadata": {},
   "outputs": [],
   "source": [
    "# Increase network capacity: stack recurrent layers\n",
    "# all intermediate layers should return their full sequence of outputs (a 3D tensor) rather than their output at the last timestep\n",
    "model=Sequential()\n",
    "model.add(layers.GRU(32, dropout=0.1, recurrent_dropout=0.5, return_sequences=True, input_shape=(None, float_data.shape[-1])))\n",
    "model.add(layers.GRU(64, activation='relu', dropout=0.1, recurrent_dropout=0.5))\n",
    "model.add(layers.Dense(1))\n",
    "\n",
    "model.compile(optimizer=RMSprop(), loss='mae')\n",
    "history=model.fit_generator(train_gen, steps_per_epoch=500, epochs=40, validation_data=val_gen, validation_steps=val_steps)\n",
    "\n",
    "loss=history.history['loss']\n",
    "val_loss=history.history['val_loss']\n",
    "epochs=range(1, len(loss)+1)\n",
    "plt.figure()\n",
    "plt.plot(epochs, loss, 'bo', label='Training loss')\n",
    "plt.plot(epochs, val_loss, 'b', label='Validation loss')\n",
    "plt.title('Training and Validation loss')\n",
    "plt.legend()\n",
    "plt.show()"
   ]
  },
  {
   "cell_type": "code",
   "execution_count": null,
   "metadata": {},
   "outputs": [],
   "source": [
    "# Train LSTM using reversed sequences on the IMDB data\n",
    "from keras.datasets import imdb\n",
    "from keras.preprocessing import sequence\n",
    "from keras import layers\n",
    "from keras.models import Sequential\n",
    "\n",
    "max_features=10000\n",
    "maxlen=500\n",
    "(x_train,y_train),(x_test,y_test)=imdb.load_data(num_words=max_features)\n",
    "\n",
    "x_train=[x[::-1] for x in x_train]\n",
    "x_test=[x[::-1] for x in x_test]\n",
    "\n",
    "x_train=sequence.pad_sequences(x_train, maxlen=maxlen)\n",
    "x_test=sequence.pad_sequences(x_test,maxlen=maxlen)\n",
    "\n",
    "model=Sequential()\n",
    "model.add(layers.Embedding(max_features,128))\n",
    "model.add(layers.LSTM(32))\n",
    "model.add(layers.Dense(1, activation='sigmoid'))\n",
    "\n",
    "model.compile('rmsprop', 'binary_crossentropy', ['acc'])\n",
    "model.fit(x_train,y_train,epochs=10,batch_size=128,validation_split=0.2)"
   ]
  },
  {
   "cell_type": "code",
   "execution_count": null,
   "metadata": {
    "collapsed": true
   },
   "outputs": [],
   "source": [
    "# train and evaluate a bidirectional LSTM on the IMDB data\n",
    "model=Sequential()\n",
    "model.add(layers.Embedding(max_features,32))\n",
    "model.add(layers.Bidirectional(layers.LSTM(32)))\n",
    "model.add(layers.Dense(1,activation='sigmoid'))\n",
    "\n",
    "model.compile('rmsprop','binary_crossentropy',['acc'])\n",
    "model.fit(x_train,y_train,epochs=10,batch_size=128,validation_split=0.2)"
   ]
  },
  {
   "cell_type": "code",
   "execution_count": null,
   "metadata": {
    "collapsed": true
   },
   "outputs": [],
   "source": [
    "# train a bidirectional GRU on the Jena data\n",
    "model=Sequential()\n",
    "model.add(layers.Bidirectional(layers.GRU(32), input_shape=(None, float_data.shape[-1])))\n",
    "model.add(layers.Dense(1))\n",
    "model.compile(optimizer=RMSprop(),loss='mae')\n",
    "history=model.fit_generator(train_gen, steps_per_epochs=500, epochs=10, validation_data=val_gen, validation_steps=val_steps)\n",
    "\n",
    "loss=history.history['loss']\n",
    "val_loss=history.history['val_loss']\n",
    "epochs=range(1, len(loss)+1)\n",
    "plt.figure()\n",
    "plt.plot(epochs, loss, 'bo', label='Training loss')\n",
    "plt.plot(epochs, val_loss, 'b', label='Validation loss')\n",
    "plt.title('Training and Validation loss')\n",
    "plt.legend()\n",
    "plt.show()"
   ]
  }
 ],
 "metadata": {
  "kernelspec": {
   "display_name": "Python 3",
   "language": "python",
   "name": "python3"
  },
  "language_info": {
   "codemirror_mode": {
    "name": "ipython",
    "version": 3
   },
   "file_extension": ".py",
   "mimetype": "text/x-python",
   "name": "python",
   "nbconvert_exporter": "python",
   "pygments_lexer": "ipython3",
   "version": "3.6.3"
  }
 },
 "nbformat": 4,
 "nbformat_minor": 2
}
